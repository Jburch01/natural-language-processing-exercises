{
 "cells": [
  {
   "cell_type": "markdown",
   "id": "d828a2f8",
   "metadata": {},
   "source": [
    "<div style='background-color : lightblue'>\n",
    "<a id='TableOfContents'></a>\n",
    "    <b><u><i><h1 style='text-align : center; padding-top: 70px;''>\n",
    "        Table of Contents\n",
    "    </h1></i></u></b>\n",
    "<li><a href='#imports'>Imports</a></li>\n",
    "<li><a href='#q1'>Question 1</a></li>\n",
    "<li><a href='#q2'>Question 2</a></li>\n",
    "<li><a href='#q3'>Question 3</a></li>\n",
    "<li><a href='#q4'>Question 4</a></li>\n",
    "<li><a href='#q5'>Question 5</a></li>\n",
    "<li><a href='#bonus'>Bonus</a></li>"
   ]
  },
  {
   "cell_type": "markdown",
   "id": "2b0a2348",
   "metadata": {},
   "source": [
    "<div style='background-color : lightblue'>\n",
    "<a id='imports'></a>\n",
    "    <b><u><i><h1 style='text-align : center;padding-top: 25px;''>\n",
    "        Imports\n",
    "    </h1></i></u></b>\n",
    "<li><a href='#TableOfContents'>Table of Contents</a></li>"
   ]
  },
  {
   "cell_type": "code",
   "execution_count": 5,
   "id": "e9d1131b",
   "metadata": {},
   "outputs": [],
   "source": [
    "# Vectorization and dataframing\n",
    "import numpy as np\n",
    "import pandas as pd\n",
    "\n",
    "# Visualizations\n",
    "import matplotlib.pyplot as plt\n",
    "import matplotlib as mpl\n",
    "import seaborn as sns\n",
    "\n",
    "# Regex\n",
    "import re\n",
    "\n",
    "# Ignore warnings\n",
    "import warnings\n",
    "warnings.filterwarnings('ignore')\n",
    "\n",
    "# .py files\n",
    "# import acquire as a"
   ]
  },
  {
   "cell_type": "code",
   "execution_count": 2,
   "id": "fc8c0789",
   "metadata": {},
   "outputs": [],
   "source": [
    "# Set default plt style to 'bmh'\n",
    "mpl.style.use('bmh')"
   ]
  },
  {
   "cell_type": "markdown",
   "id": "09a57f87",
   "metadata": {},
   "source": [
    "<div style='background-color : lightblue'>\n",
    "<a id='q1'></a>\n",
    "    <b><u><i><h1 style='text-align : center;padding-top: 25px;''>\n",
    "        Question 1\n",
    "    </h1></i></u></b>\n",
    "<li><a href='#TableOfContents'>Table of Contents</a></li>"
   ]
  },
  {
   "cell_type": "markdown",
   "id": "9eca2a13",
   "metadata": {},
   "source": [
    "<b>Question 1.</b> Write a function named <b><mark>is_vowel</mark></b>. It should accept a string as input and use a regular expression to determine if the passed string is a vowel. While not explicity mentioned in the lesson, you can treat the result of re.search as a boolean value that indicates whether or not the regular expression matches the given string."
   ]
  },
  {
   "cell_type": "code",
   "execution_count": 10,
   "id": "ed6aa26e",
   "metadata": {},
   "outputs": [],
   "source": [
    "def is_vowel(str):\n",
    "    subject=str\n",
    "    regexp=r'[aeiou]'\n",
    "    if re.search(regexp, subject):\n",
    "        return True\n",
    "    else:\n",
    "        return False\n",
    "    "
   ]
  },
  {
   "cell_type": "code",
   "execution_count": 14,
   "id": "8e860587-b712-49e0-a180-98901e607d5b",
   "metadata": {},
   "outputs": [
    {
     "data": {
      "text/plain": [
       "True"
      ]
     },
     "execution_count": 14,
     "metadata": {},
     "output_type": "execute_result"
    }
   ],
   "source": [
    "is_vowel('i')"
   ]
  },
  {
   "cell_type": "markdown",
   "id": "5cdb5022",
   "metadata": {},
   "source": [
    "<div style='background-color : lightblue'>\n",
    "<a id='q2'></a>\n",
    "    <b><u><i><h1 style='text-align : center; padding-top: 25px;''>\n",
    "        Question 2\n",
    "    </h1></i></u></b>\n",
    "<li><a href='#TableOfContents'>Table of Contents</a></li>"
   ]
  },
  {
   "cell_type": "markdown",
   "id": "588786b8",
   "metadata": {},
   "source": [
    "<b>Question 2.</b> Write a function named <b><mark>is_valid_username</mark></b> that accepts a string as input. A valid username starts with a lowercase letter, and only consists of lowercase letters, numbers, or the _ character. It should also be no longer than 32 characters. The function should return either True or False depending on whether the passed string is a valid username."
   ]
  },
  {
   "cell_type": "markdown",
   "id": "6129e73e",
   "metadata": {},
   "source": [
    "- is_valid_username('aaaaaaaaaaaaaaaaaaaaaaaaaaaaaaaaa')\n",
    "    - False\n",
    "- is_valid_username('codeup')\n",
    "    - True\n",
    "- is_valid_username('Codeup')\n",
    "    - False\n",
    "- is_valid_username('codeup123')\n",
    "    - True\n",
    "- is_valid_username('1codeup')\n",
    "    - False\n"
   ]
  },
  {
   "cell_type": "code",
   "execution_count": 15,
   "id": "b07f639c",
   "metadata": {},
   "outputs": [],
   "source": [
    "def is_valid_username(username):\n",
    "    subject=username\n",
    "    regexp=r'^[a-z][a-z0-9_]{0,31}$'\n",
    "    if re.search(regexp, subject):\n",
    "        return True\n",
    "    else:\n",
    "        return False\n",
    "    "
   ]
  },
  {
   "cell_type": "code",
   "execution_count": 20,
   "id": "15e5ffaf-4535-42ee-999c-6e2e23c4379a",
   "metadata": {},
   "outputs": [
    {
     "data": {
      "text/plain": [
       "False"
      ]
     },
     "execution_count": 20,
     "metadata": {},
     "output_type": "execute_result"
    }
   ],
   "source": [
    "is_valid_username('aaaaaaaaaaaaaaaaaaaaaaaaaaaaaaaaa')"
   ]
  },
  {
   "cell_type": "code",
   "execution_count": 21,
   "id": "89bdf1c3-72e9-4f14-a209-15a2403f6c41",
   "metadata": {},
   "outputs": [
    {
     "data": {
      "text/plain": [
       "True"
      ]
     },
     "execution_count": 21,
     "metadata": {},
     "output_type": "execute_result"
    }
   ],
   "source": [
    "is_valid_username('codeup')"
   ]
  },
  {
   "cell_type": "code",
   "execution_count": 22,
   "id": "5349e1f7-bd3b-4950-8924-e31383936a38",
   "metadata": {},
   "outputs": [
    {
     "data": {
      "text/plain": [
       "False"
      ]
     },
     "execution_count": 22,
     "metadata": {},
     "output_type": "execute_result"
    }
   ],
   "source": [
    "is_valid_username('Codeup')"
   ]
  },
  {
   "cell_type": "code",
   "execution_count": 23,
   "id": "b45ae3fc-61ec-4a31-bc9c-43dd9ff63d68",
   "metadata": {},
   "outputs": [
    {
     "data": {
      "text/plain": [
       "True"
      ]
     },
     "execution_count": 23,
     "metadata": {},
     "output_type": "execute_result"
    }
   ],
   "source": [
    "is_valid_username('codeup123')"
   ]
  },
  {
   "cell_type": "code",
   "execution_count": 24,
   "id": "0821b8ca-4aea-4240-8738-f3564c5f9e35",
   "metadata": {},
   "outputs": [
    {
     "data": {
      "text/plain": [
       "False"
      ]
     },
     "execution_count": 24,
     "metadata": {},
     "output_type": "execute_result"
    }
   ],
   "source": [
    "is_valid_username('1codeup')"
   ]
  },
  {
   "cell_type": "markdown",
   "id": "3810f905",
   "metadata": {},
   "source": [
    "<div style='background-color : lightblue'>\n",
    "<a id='q3'></a>\n",
    "    <b><u><i><h1 style='text-align : center;padding-top: 25px;''>\n",
    "        Question 3\n",
    "    </h1></i></u></b>\n",
    "<li><a href='#TableOfContents'>Table of Contents</a></li>"
   ]
  },
  {
   "cell_type": "markdown",
   "id": "4ada8ca9",
   "metadata": {},
   "source": [
    "<b>Question 3.</b> Write a regular expression to capture phone numbers. It should match all of the following:"
   ]
  },
  {
   "cell_type": "markdown",
   "id": "8c339bbc",
   "metadata": {},
   "source": [
    "- (210) 867 5309\n",
    "- +1 210.867.5309\n",
    "- 867-5309\n",
    "- 210-867-5309"
   ]
  },
  {
   "cell_type": "code",
   "execution_count": 42,
   "id": "3739b976",
   "metadata": {},
   "outputs": [
    {
     "data": {
      "text/plain": [
       "['(210) 867 5309']"
      ]
     },
     "execution_count": 42,
     "metadata": {},
     "output_type": "execute_result"
    }
   ],
   "source": [
    "regexp = r'^.[0-9]*.*'\n",
    "subject = '(210) 867 5309'\n",
    "\n",
    "re.findall(regexp, subject)"
   ]
  },
  {
   "cell_type": "code",
   "execution_count": 43,
   "id": "44a1949b-8ccb-4ae6-9b74-0f89515ee453",
   "metadata": {},
   "outputs": [
    {
     "data": {
      "text/plain": [
       "['+1 210.867.5309']"
      ]
     },
     "execution_count": 43,
     "metadata": {},
     "output_type": "execute_result"
    }
   ],
   "source": [
    "regexp = r'^.[0-9]*.*'\n",
    "subject = '+1 210.867.5309'\n",
    "\n",
    "re.findall(regexp, subject)"
   ]
  },
  {
   "cell_type": "code",
   "execution_count": 44,
   "id": "d004e4ad-e2cd-4c17-a11d-f6961757766f",
   "metadata": {},
   "outputs": [
    {
     "data": {
      "text/plain": [
       "['867-5309']"
      ]
     },
     "execution_count": 44,
     "metadata": {},
     "output_type": "execute_result"
    }
   ],
   "source": [
    "regexp = r'^.[0-9]*.*'\n",
    "subject = '867-5309'\n",
    "\n",
    "re.findall(regexp, subject)"
   ]
  },
  {
   "cell_type": "code",
   "execution_count": 45,
   "id": "0d836965-b3e9-4239-b7e8-e8016cc36b3e",
   "metadata": {},
   "outputs": [
    {
     "data": {
      "text/plain": [
       "['210-867-5309']"
      ]
     },
     "execution_count": 45,
     "metadata": {},
     "output_type": "execute_result"
    }
   ],
   "source": [
    "regexp = r'^.[0-9]*.*'\n",
    "subject = '210-867-5309'\n",
    "\n",
    "re.findall(regexp, subject)"
   ]
  },
  {
   "cell_type": "markdown",
   "id": "f4625d23",
   "metadata": {},
   "source": [
    "<div style='background-color : lightblue'>\n",
    "    <a id='q4'></a>\n",
    "    <b><u><i><h1 style='text-align : center; padding-top: 25px;'>\n",
    "        Question 4\n",
    "    </h1></i></u></b>\n",
    "    <li><a href='#TableOfContents'>Table of Contents</a></li>\n",
    "</div>\n"
   ]
  },
  {
   "cell_type": "markdown",
   "id": "528161b7",
   "metadata": {},
   "source": [
    "<b>Question 4.</b> Use regular expressions to convert the dates below to the standardized year-month-day format."
   ]
  },
  {
   "cell_type": "markdown",
   "id": "3114065e",
   "metadata": {},
   "source": [
    "- 02/04/19\n",
    "- 02/05/19\n",
    "- 02/06/19\n",
    "- 02/07/19\n",
    "- 02/08/19\n",
    "- 02/09/19\n",
    "- 02/10/19"
   ]
  },
  {
   "cell_type": "code",
   "execution_count": 57,
   "id": "0fc998e4",
   "metadata": {},
   "outputs": [
    {
     "data": {
      "text/plain": [
       "'19/04/02'"
      ]
     },
     "execution_count": 57,
     "metadata": {},
     "output_type": "execute_result"
    }
   ],
   "source": [
    "regexp = r'(\\d{2})/(\\d{2})/(\\d{2})'\n",
    "subject = '02/04/19'\n",
    "re.sub(regexp,r'\\3/\\2/\\1',subject)"
   ]
  },
  {
   "cell_type": "code",
   "execution_count": 58,
   "id": "8306b9e7-48fe-405a-bed5-81c170f6d4ce",
   "metadata": {},
   "outputs": [
    {
     "data": {
      "text/plain": [
       "'19/09/02'"
      ]
     },
     "execution_count": 58,
     "metadata": {},
     "output_type": "execute_result"
    }
   ],
   "source": [
    "regexp = r'(\\d{2})/(\\d{2})/(\\d{2})'\n",
    "subject = '02/09/19'\n",
    "re.sub(regexp,r'\\3/\\2/\\1',subject)"
   ]
  },
  {
   "cell_type": "code",
   "execution_count": 74,
   "id": "662ca48e-4219-4ba3-8154-eaad5d585a71",
   "metadata": {},
   "outputs": [
    {
     "data": {
      "text/plain": [
       "'2019/04/02'"
      ]
     },
     "execution_count": 74,
     "metadata": {},
     "output_type": "execute_result"
    }
   ],
   "source": [
    "regexp = r'(\\d{2})/(\\d{2})/(\\d{2})'\n",
    "subject = '02/04/19'\n",
    "\n",
    "new_subject = re.sub(regexp, r'\\g<1>/\\g<2>/' + '20' + r'\\g<3>', subject)\n",
    "regexp = r'(\\d{2})/(\\d{2})/(\\d{4})'\n",
    "\n",
    "re.sub(regexp,r'\\3/\\2/\\1',new_subject)"
   ]
  },
  {
   "cell_type": "markdown",
   "id": "d17ee7be",
   "metadata": {},
   "source": [
    "<div style='background-color : lightblue'>\n",
    "<a id='q5'></a>\n",
    "    <b><u><i><h1 style='text-align : center; padding-top: 25px;''>\n",
    "        Question 5\n",
    "    </h1></i></u></b>\n",
    "<li><a href='#TableOfContents'>Table of Contents</a></li>"
   ]
  },
  {
   "cell_type": "markdown",
   "id": "bcbdbefc",
   "metadata": {},
   "source": [
    "<b>Question 5.</b> Write a regex to extract the various parts of these logfile lines:"
   ]
  },
  {
   "cell_type": "markdown",
   "id": "83430b6b",
   "metadata": {},
   "source": [
    "- GET /api/v1/sales?page=86 [16/Apr/2019:193452+0000] HTTP/1.1 {200} 510348 \"python-requests/2.21.0\" 97.105.19.58\n",
    "- POST /users_accounts/file-upload [16/Apr/2019:193452+0000] HTTP/1.1 {201} 42 \"User-Agent: Mozilla/5.0 (X11; Fedora; Fedora; Linux x86_64) AppleWebKit/537.36 (KHTML, like Gecko) Chrome/73.0.3683.86 Safari/537.36\" 97.105.19.58\n",
    "- GET /api/v1/items?page=3 [16/Apr/2019:193453+0000] HTTP/1.1 {429} 3561 \"python-requests/2.21.0\" 97.105.19.58\n"
   ]
  },
  {
   "cell_type": "code",
   "execution_count": 152,
   "id": "b3f08a04-8472-48eb-a0ec-6f0b7b6232d4",
   "metadata": {},
   "outputs": [],
   "source": [
    "#r'(?P<ip>.*?)\\s.*?\\[(?P<timestamp>.*?)\\]\\s+\"(?P<method>[A-Z]+)\\s(?P<path>.*?)\\sHTTP/1.1\"\\s(?P<status>\\"
   ]
  },
  {
   "cell_type": "code",
   "execution_count": 186,
   "id": "c76ff08a-d954-48d8-803b-29fe857edbca",
   "metadata": {},
   "outputs": [
    {
     "data": {
      "text/plain": [
       "[('GET',\n",
       "  '/api/v1/sales?page=86',\n",
       "  '16/Apr/2019:193452+0000',\n",
       "  'HTTP/1.1',\n",
       "  '200',\n",
       "  '510348',\n",
       "  'python-requests/2.21.0',\n",
       "  '97.105.19.58')]"
      ]
     },
     "execution_count": 186,
     "metadata": {},
     "output_type": "execute_result"
    }
   ],
   "source": [
    "regexp = r'(?P<HTTP_method>.*?)\\s(?P<path>.*?)\\s\\[(?P<time_stamp>.*?)\\]\\s(?P<HTTP_version>.*?)\\s\\{(?P<status_code>.*?)\\}\\s(?P<size>.*?)\\s\\\"(?P<User_Agent_string>.*?)\\\"\\s+(?P<ip>.*)'\n",
    "subject = 'GET /api/v1/sales?page=86 [16/Apr/2019:193452+0000] HTTP/1.1 {200} 510348 \"python-requests/2.21.0\" 97.105.19.58'\n",
    "\n",
    "re.findall(regexp, subject)\n",
    "# subject.str.extract(regexp)"
   ]
  },
  {
   "cell_type": "code",
   "execution_count": 76,
   "id": "87921538",
   "metadata": {},
   "outputs": [],
   "source": [
    "url_parts = ['HTTP_method', 'path','time_stamp','HTTP_version', 'status_code', 'size', 'User-Agent string' 'ip']"
   ]
  },
  {
   "cell_type": "markdown",
   "id": "62a7351b",
   "metadata": {},
   "source": [
    "<div style='background-color : lightblue'>\n",
    "<a id='bonus'></a>\n",
    "    <b><u><i><h1 style='text-align : center; padding-top: 25px;''>\n",
    "        Bonus\n",
    "    </h1></i></u></b>\n",
    "<li><a href='#TableOfContents'>Table of Contents</a></li>"
   ]
  },
  {
   "cell_type": "markdown",
   "id": "05139d04",
   "metadata": {},
   "source": [
    "<b>Bonus.</b> You can find a list of words on your mac at <b><mark>/usr/share/dict/words</mark></b>. Use this file to answer the following questions:"
   ]
  },
  {
   "cell_type": "markdown",
   "id": "17265b8d",
   "metadata": {},
   "source": [
    "- How many words have at least 3 vowels?\n",
    "- How many words have at least 3 vowels in a row?\n",
    "- How many words have at least 4 consonants in a row?\n",
    "- How many words start and end with the same letter?\n",
    "- How many words start and end with a vowel?\n",
    "- How many words contain the same letter 3 times in a row?\n",
    "- What other interesting patterns in words can you find?\n"
   ]
  },
  {
   "cell_type": "code",
   "execution_count": null,
   "id": "76fb9966",
   "metadata": {},
   "outputs": [],
   "source": []
  }
 ],
 "metadata": {
  "kernelspec": {
   "display_name": "Python 3 (ipykernel)",
   "language": "python",
   "name": "python3"
  },
  "language_info": {
   "codemirror_mode": {
    "name": "ipython",
    "version": 3
   },
   "file_extension": ".py",
   "mimetype": "text/x-python",
   "name": "python",
   "nbconvert_exporter": "python",
   "pygments_lexer": "ipython3",
   "version": "3.9.13"
  }
 },
 "nbformat": 4,
 "nbformat_minor": 5
}
