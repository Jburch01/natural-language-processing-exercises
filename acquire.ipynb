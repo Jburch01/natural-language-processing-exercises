{
 "cells": [
  {
   "cell_type": "markdown",
   "id": "d828a2f8",
   "metadata": {},
   "source": [
    "<div style='background-color : lightblue'>\n",
    "<a id='TableOfContents'></a>\n",
    "    <b><u><i><h1 style='text-align : center; padding-top: 70px;''>\n",
    "        Table of Contents\n",
    "    </h1></i></u></b>\n",
    "<li><a href='#imports'>Imports</a></li>\n",
    "<li><a href='#q1'>Question 1</a></li>\n",
    "<li><a href='#q2'>Question 2</a></li>\n",
    "<li><a href='#q3'>Question 3</a></li>\n"
   ]
  },
  {
   "cell_type": "markdown",
   "id": "2b0a2348",
   "metadata": {},
   "source": [
    "<div style='background-color : lightblue'>\n",
    "<a id='imports'></a>\n",
    "    <b><u><i><h1 style='text-align : center;padding-top: 25px;''>\n",
    "        Imports\n",
    "    </h1></i></u></b>\n",
    "<li><a href='#TableOfContents'>Table of Contents</a></li>"
   ]
  },
  {
   "cell_type": "code",
   "execution_count": 11,
   "id": "e9d1131b",
   "metadata": {},
   "outputs": [],
   "source": [
    "from requests import get\n",
    "from bs4 import BeautifulSoup as b\n",
    "import os\n"
   ]
  },
  {
   "cell_type": "code",
   "execution_count": 4,
   "id": "fc8c0789",
   "metadata": {},
   "outputs": [],
   "source": [
    "# Set default plt style to 'bmh'\n",
    "mpl.style.use('bmh')"
   ]
  },
  {
   "cell_type": "markdown",
   "id": "09a57f87",
   "metadata": {},
   "source": [
    "<div style='background-color : lightblue'>\n",
    "<a id='q1'></a>\n",
    "    <b><u><i><h1 style='text-align : center;padding-top: 25px;''>\n",
    "        Question 1\n",
    "    </h1></i></u></b>\n",
    "<li><a href='#TableOfContents'>Table of Contents</a></li>"
   ]
  },
  {
   "cell_type": "markdown",
   "id": "9eca2a13",
   "metadata": {},
   "source": [
    "<b>Question 1. Codeup Blog Articles</b>\n",
    "\n",
    "Visit Codeup's Blog and record the urls for at least 5 distinct blog posts. For each post, you should scrape at least the post's title and content.\n",
    "\n",
    "Encapsulate your work in a function named get_blog_articles that will return a list of dictionaries, with each dictionary representing one article. The shape of each dictionary should look like this:"
   ]
  },
  {
   "cell_type": "code",
   "execution_count": 214,
   "id": "ed6aa26e",
   "metadata": {},
   "outputs": [],
   "source": [
    "url = 'https://codeup.com/blog/'\n",
    "headers = {'User-Agent': 'Codeup Data Science'} # Some websites don't accept the pyhon-requests default user-agent\n",
    "response = get(url, headers=headers)\n"
   ]
  },
  {
   "cell_type": "code",
   "execution_count": 219,
   "id": "ec8f8a3b-a84c-4720-a6ab-8a9c7df4117b",
   "metadata": {},
   "outputs": [
    {
     "data": {
      "text/plain": [
       "<Response [200]>"
      ]
     },
     "execution_count": 219,
     "metadata": {},
     "output_type": "execute_result"
    }
   ],
   "source": [
    "response\n"
   ]
  },
  {
   "cell_type": "code",
   "execution_count": 220,
   "id": "d22f816a-e361-4d82-b705-1e783db17a34",
   "metadata": {},
   "outputs": [],
   "source": [
    "soup = b(response.content, 'html.parser')"
   ]
  },
  {
   "cell_type": "code",
   "execution_count": 225,
   "id": "db1a6703-d235-4139-a52b-d5b28b164a20",
   "metadata": {},
   "outputs": [],
   "source": [
    "divs = soup.find_all('div', class_='post-content')\n"
   ]
  },
  {
   "cell_type": "code",
   "execution_count": 226,
   "id": "0520e448-f0e2-432a-b29f-633c8c9e3edc",
   "metadata": {},
   "outputs": [
    {
     "data": {
      "text/plain": [
       "[<div class=\"post-content\"><div class=\"post-content-inner\"><p>Women in tech: Panelist Spotlight – Magdalena Rahn Codeup is hosting a Women in Tech Panel in honor of Women’s History...</p>\n",
       " </div><a class=\"more-link\" href=\"https://codeup.com/featured/women-in-tech-panelist-spotlight/\">read more</a></div>,\n",
       " <div class=\"post-content\"><div class=\"post-content-inner\"><p>Women in tech: Panelist Spotlight - Rachel Robbins-Mayhill Codeup is hosting a Women in Tech Panel in honor of Women’s...</p>\n",
       " </div><a class=\"more-link\" href=\"https://codeup.com/featured/women-in-tech-rachel-robbins-mayhill/\">read more</a></div>,\n",
       " <div class=\"post-content\"><div class=\"post-content-inner\"><p>Women in tech: Panelist Spotlight - Sarah Mellor  Codeup is hosting a Women in Tech Panel in honor of Women’s History...</p>\n",
       " </div><a class=\"more-link\" href=\"https://codeup.com/codeup-news/women-in-tech-panelist-spotlight-sarah-mellor/\">read more</a></div>,\n",
       " <div class=\"post-content\"><div class=\"post-content-inner\"><p>Women in tech: Panelist Spotlight - Madeleine Capper Codeup is hosting a Women in Tech Panel in honor of Women’s...</p>\n",
       " </div><a class=\"more-link\" href=\"https://codeup.com/events/women-in-tech-madeleine/\">read more</a></div>,\n",
       " <div class=\"post-content\"><div class=\"post-content-inner\"><p>Black excellence in tech: Panelist Spotlight - Wilmarie De La Cruz Mejia Codeup is hosting a Black Excellence in Tech...</p>\n",
       " </div><a class=\"more-link\" href=\"https://codeup.com/codeup-news/panelist-spotlight-4/\">read more</a></div>,\n",
       " <div class=\"post-content\"><div class=\"post-content-inner\"><p>Black excellence in tech: Panelist Spotlight - Stephanie Jones Codeup is hosting our second Black Excellence in Tech...</p>\n",
       " </div><a class=\"more-link\" href=\"https://codeup.com/events/black-excellence-in-tech-panelist-spotlight-stephanie-jones/\">read more</a></div>]"
      ]
     },
     "execution_count": 226,
     "metadata": {},
     "output_type": "execute_result"
    }
   ],
   "source": [
    "divs"
   ]
  },
  {
   "cell_type": "code",
   "execution_count": 227,
   "id": "c5948b94-5d33-48d6-9e94-e78d599fcb33",
   "metadata": {},
   "outputs": [],
   "source": [
    "links = []\n",
    "for div in divs:\n",
    "    links.append(div.find('a')['href'])"
   ]
  },
  {
   "cell_type": "code",
   "execution_count": 228,
   "id": "669e6941-b3c0-4c9d-a133-d3151d8a243d",
   "metadata": {},
   "outputs": [
    {
     "data": {
      "text/plain": [
       "['https://codeup.com/featured/women-in-tech-panelist-spotlight/',\n",
       " 'https://codeup.com/featured/women-in-tech-rachel-robbins-mayhill/',\n",
       " 'https://codeup.com/codeup-news/women-in-tech-panelist-spotlight-sarah-mellor/',\n",
       " 'https://codeup.com/events/women-in-tech-madeleine/',\n",
       " 'https://codeup.com/codeup-news/panelist-spotlight-4/',\n",
       " 'https://codeup.com/events/black-excellence-in-tech-panelist-spotlight-stephanie-jones/']"
      ]
     },
     "execution_count": 228,
     "metadata": {},
     "output_type": "execute_result"
    }
   ],
   "source": [
    "links"
   ]
  },
  {
   "cell_type": "code",
   "execution_count": 241,
   "id": "731f6653-b615-4486-a699-233712a9fbaa",
   "metadata": {},
   "outputs": [],
   "source": [
    "blogs = []\n",
    "for link in links:\n",
    "    blog = {}\n",
    "    response = get(link, headers=headers)\n",
    "    soup = b(response.content, 'html.parser')\n",
    "    title = soup.find('h2').text\n",
    "    p = soup.find_all('p')[3:5]\n",
    "    blog.update({'title': title})\n",
    "    blog.update({'content': p})\n",
    "    blogs.append(blog)\n",
    "    \n",
    "    \n",
    "\n",
    "\n",
    "    \n",
    "   \n",
    "    \n",
    "\n"
   ]
  },
  {
   "cell_type": "code",
   "execution_count": 234,
   "id": "14f1882c-6907-4290-bc4a-6de14f4f2056",
   "metadata": {},
   "outputs": [],
   "source": [
    "p = soup.find_all('p')"
   ]
  },
  {
   "cell_type": "code",
   "execution_count": 239,
   "id": "8a92f532-c95b-4ec3-bcbb-70f348742e75",
   "metadata": {},
   "outputs": [
    {
     "data": {
      "text/plain": [
       "[{'title': 'Women in tech: Panelist Spotlight – Magdalena Rahn',\n",
       "  'content': [<p>Meet Magdalena!</p>,\n",
       "   <p><a href=\"https://www.linkedin.com/in/magdalena-rahn/\" rel=\"noopener\" target=\"_blank\">Magdalena Rahn</a> is a current Codeup student in a Data Science cohort in San Antonio, Texas. She has a professional background in cross-cultural communications, international business development, the wine industry and journalism. After serving in the US Navy, she decided to complement her professional skill set by attending the Data Science program at Codeup; she is set to graduate in March 2023. Magdalena is fluent in French, Bulgarian, Chinese-Mandarin, Spanish and Italian.</p>]},\n",
       " {'title': 'Women in tech: Panelist Spotlight – Rachel Robbins-Mayhill',\n",
       "  'content': [<p>In June 2022, Rachel graduated from Codeup’s Innis cohort, where she honed her skills in data science. Shortly after, she started working as a Data Science Technical Writer with Apex Systems as a Contractor for USAA in July 2022. Her unconventional role allowed her to understand where her skills could be best utilized to support USAA in a non-contract role.</p>,\n",
       "   <p>Rachel recently joined USAA’s Data Science Delivery team as a Decision Science Analyst I in February 2023. The team is focused on delivering machine learning models for fraud prevention, and Rachel’s particular role centers around providing strategic process solutions for the team in collaboration with Operational and Model Risk components.</p>]},\n",
       " {'title': 'Women in tech: Panelist Spotlight – Sarah Mellor\\xa0',\n",
       "  'content': [<p><img alt=\"sarah\" class=\"wp-image-19742 alignleft\" decoding=\"async\" height=\"247\" src=\"https://tribucodeup.wpenginepowered.com/wp-content/uploads/2023/03/CC430966-58BE-4BB4-A39B-3F0B5B8DDED8-300x300.jpeg\" width=\"247\"/><a href=\"https://www.linkedin.com/in/sarah-m-mellor/\" rel=\"noopener\" target=\"_blank\">Sarah Mellor</a> currently works as the Director of People Operations. She joined Codeup four and a half years ago as an Admissions Manager. She went on to build out and lead the Marketing and Admissions team, while picking up People Ops tasks and projects here and there until moving over to lead the People Ops team two years ago. Prior to Codeup, she worked at education-focused non-profits in Washington, DC and Boulder, Colorado. She graduated from Wake Forest University.</p>,\n",
       "   <p>We asked Sarah how Codeup has impacted her career, and her response was “I have absolutely loved having the privilege to grow alongside Codeup. In my time here across multiple different roles and departments, I’ve seen a lot of change. The consistent things have always been the high quality of passionate and hardworking people I get to work with; the impactful mission we get to work on; and the inspiring students who trust us with their career change.”</p>]},\n",
       " {'title': 'Women in tech: Panelist Spotlight – Madeleine Capper',\n",
       "  'content': [<p><a href=\"https://www.linkedin.com/in/madeleine-capper/\">Madeleine Capper</a> is a Data Scientist in San Antonio, Texas. A long-standing San Antonio resident, she studied mathematics at the University of Texas San Antonio and has worked as a Data Scientist for Booz Allen Hamilton. Madeleine currently teaches Data Science at Codeup, where she works daily with burgeoning data professionals to help them actualize their career aspirations through technical education.</p>,\n",
       "   <p>Madeleine attended Codeup as a student in early 2019 as a pupil in the very first Codeup Data Science cohort. The program proved immediately effective and she was the first student to obtain a data career out of the program. After working at Booz Allen Hamilton, Madeleine’s passion for education in conjunction with her appreciation for Codeup’s capacity for transformative life change brought her back to the institution in an instructional capacity, where she has been teaching for two years.</p>]},\n",
       " {'title': 'Black excellence in tech: Panelist Spotlight – Wilmarie De La Cruz Mejia',\n",
       "  'content': [<p><strong>Meet Wilmarie!</strong></p>,\n",
       "   <p><a href=\"https://www.linkedin.com/in/wilmarie-de-la-cruz-b91338162/\"><span style=\"font-weight: 400;\">Wilmarie De</span></a><a href=\"https://www.linkedin.com/in/wilmarie-de-la-cruz-b91338162/\"><span style=\"font-weight: 400;\"> La Cruz Mejia</span></a><span style=\"font-weight: 400;\"> is a current Codeup student on the path to becoming a Full-Stack Web Developer at our Dallas, TX campus. </span></p>]},\n",
       " {'title': 'Black excellence in tech: Panelist Spotlight – Stephanie Jones',\n",
       "  'content': [<p><img alt=\"\" class=\"wp-image-19625 alignleft\" decoding=\"async\" height=\"282\" src=\"https://tribucodeup.wpenginepowered.com/wp-content/uploads/2023/02/stephanie-jones-Stephanie-Jones-187x300.jpg\" width=\"176\"/></p>,\n",
       "   <p><a href=\"https://www.linkedin.com/in/stephanie-jones78/\"><span style=\"font-weight: 400;\">Stephanie Jones</span></a><span style=\"font-weight: 400;\"> is an Alumna of Codeup’s Data Science Program (March 2022) and currently works as a Business Intelligence Developer for Victory Capital, a global investment management firm based in San Antonio, TX. </span></p>]}]"
      ]
     },
     "execution_count": 239,
     "metadata": {},
     "output_type": "execute_result"
    }
   ],
   "source": [
    "blogs\n"
   ]
  },
  {
   "cell_type": "code",
   "execution_count": 233,
   "id": "3da31865-3957-4e76-8198-80b902f14257",
   "metadata": {},
   "outputs": [
    {
     "data": {
      "text/plain": [
       "[{'title': 'Women in tech: Panelist Spotlight – Magdalena Rahn',\n",
       "  'content': 'Magdalena Rahn is a current Codeup student in a Data Science cohort in San Antonio, Texas. She has a professional background in cross-cultural communications, international business development, the wine industry and journalism. After serving in the US Navy, she decided to complement her professional skill set by attending the Data Science program at Codeup; she is set to graduate in March 2023. Magdalena is fluent in French, Bulgarian, Chinese-Mandarin, Spanish and Italian.'},\n",
       " {'title': 'Women in tech: Panelist Spotlight – Rachel Robbins-Mayhill',\n",
       "  'content': 'Rachel recently joined USAA’s Data Science Delivery team as a Decision Science Analyst I in February 2023. The team is focused on delivering machine learning models for fraud prevention, and Rachel’s particular role centers around providing strategic process solutions for the team in collaboration with Operational and Model Risk components.'},\n",
       " {'title': 'Women in tech: Panelist Spotlight – Sarah Mellor\\xa0',\n",
       "  'content': 'We asked Sarah how Codeup has impacted her career, and her response was “I have absolutely loved having the privilege to grow alongside Codeup. In my time here across multiple different roles and departments, I’ve seen a lot of change. The consistent things have always been the high quality of passionate and hardworking people I get to work with; the impactful mission we get to work on; and the inspiring students who trust us with their career change.”'},\n",
       " {'title': 'Women in tech: Panelist Spotlight – Madeleine Capper',\n",
       "  'content': 'Madeleine attended Codeup as a student in early 2019 as a pupil in the very first Codeup Data Science cohort. The program proved immediately effective and she was the first student to obtain a data career out of the program. After working at Booz Allen Hamilton, Madeleine’s passion for education in conjunction with her appreciation for Codeup’s capacity for transformative life change brought her back to the institution in an instructional capacity, where she has been teaching for two years.'},\n",
       " {'title': 'Black excellence in tech: Panelist Spotlight – Wilmarie De La Cruz Mejia',\n",
       "  'content': 'Wilmarie De\\xa0La Cruz Mejia is a current Codeup student on the path to becoming a Full-Stack Web Developer at our Dallas, TX campus.\\xa0'},\n",
       " {'title': 'Black excellence in tech: Panelist Spotlight – Stephanie Jones',\n",
       "  'content': 'Stephanie Jones is an Alumna of Codeup’s Data Science Program (March 2022) and currently works as a Business Intelligence Developer for Victory Capital, a global investment management firm based in San Antonio, TX.\\xa0'}]"
      ]
     },
     "execution_count": 233,
     "metadata": {},
     "output_type": "execute_result"
    }
   ],
   "source": [
    "blogs"
   ]
  },
  {
   "cell_type": "code",
   "execution_count": 200,
   "id": "fc701b20-d2fa-43c1-92ba-841f4d418ce1",
   "metadata": {},
   "outputs": [],
   "source": [
    "import pandas as pd\n",
    "import numpy as np"
   ]
  },
  {
   "cell_type": "code",
   "execution_count": 209,
   "id": "1be027df-8b25-473c-bf18-f6692d8bb990",
   "metadata": {},
   "outputs": [],
   "source": [
    "df = pd.DataFrame(blogs)"
   ]
  },
  {
   "cell_type": "code",
   "execution_count": 210,
   "id": "35511b87-e7ae-4ab8-991d-97270d6df002",
   "metadata": {},
   "outputs": [],
   "source": [
    "df.to_csv('blogs.csv', index=False)"
   ]
  },
  {
   "cell_type": "markdown",
   "id": "5cdb5022",
   "metadata": {},
   "source": [
    "<div style='background-color : lightblue'>\n",
    "<a id='q2'></a>\n",
    "    <b><u><i><h1 style='text-align : center; padding-top: 25px;''>\n",
    "        Question 2\n",
    "    </h1></i></u></b>\n",
    "<li><a href='#TableOfContents'>Table of Contents</a></li>"
   ]
  },
  {
   "cell_type": "markdown",
   "id": "588786b8",
   "metadata": {},
   "source": [
    "<b>Question 2. <b>News Articles</b>\n",
    "\n",
    "We will now be scraping text data from inshorts, a website that provides a brief overview of many different topics.\n",
    "\n",
    "Write a function that scrapes the news articles for the following topics:\n",
    "\n",
    "- Business\n",
    "- Sports\n",
    "- Technology\n",
    "- Entertainment\n",
    "    \n",
    "The end product of this should be a function named get_news_articles that returns a list of dictionaries, where each dictionary has this shape:"
   ]
  },
  {
   "cell_type": "code",
   "execution_count": 192,
   "id": "b07f639c",
   "metadata": {},
   "outputs": [],
   "source": [
    "topics = ['business', 'sports', 'technology', 'entertainment']"
   ]
  },
  {
   "cell_type": "code",
   "execution_count": 152,
   "id": "ab6b9add-575a-49d4-885f-11c931159a34",
   "metadata": {},
   "outputs": [],
   "source": [
    "url = 'https://inshorts.com/en/read/business'\n",
    "response = get(url)"
   ]
  },
  {
   "cell_type": "code",
   "execution_count": 153,
   "id": "b149c3f8-eb12-4c44-a39a-f65783afe569",
   "metadata": {},
   "outputs": [
    {
     "data": {
      "text/plain": [
       "<Response [200]>"
      ]
     },
     "execution_count": 153,
     "metadata": {},
     "output_type": "execute_result"
    }
   ],
   "source": [
    "response"
   ]
  },
  {
   "cell_type": "code",
   "execution_count": 154,
   "id": "c409b8d8-ec7e-4d2c-817e-3eefd9139bf0",
   "metadata": {},
   "outputs": [],
   "source": [
    "soup = b(response.content, 'html.parser')"
   ]
  },
  {
   "cell_type": "code",
   "execution_count": 159,
   "id": "65357043-5cc7-4aab-9c67-806e3b94b27b",
   "metadata": {},
   "outputs": [
    {
     "data": {
      "text/plain": [
       "\"Microsoft won't give salary hikes to full-time employees this year\""
      ]
     },
     "execution_count": 159,
     "metadata": {},
     "output_type": "execute_result"
    }
   ],
   "source": [
    "soup.find_all('span', itemprop='headline')[0].text"
   ]
  },
  {
   "cell_type": "code",
   "execution_count": 179,
   "id": "1100742a-8f53-4e46-a65b-34d474aaf1d8",
   "metadata": {},
   "outputs": [],
   "source": [
    "content = soup.find_all('div', itemprop='articleBody')[0].text"
   ]
  },
  {
   "cell_type": "code",
   "execution_count": 184,
   "id": "cb6f1b9d-167f-40d8-8fa1-092fef7799f7",
   "metadata": {},
   "outputs": [],
   "source": [
    "content = content.replace('\\n', '')\n"
   ]
  },
  {
   "cell_type": "code",
   "execution_count": 194,
   "id": "7e63f364-3c5b-48a1-83d4-b3c2a4ec130c",
   "metadata": {},
   "outputs": [],
   "source": []
  },
  {
   "cell_type": "code",
   "execution_count": 196,
   "id": "a6d5900d-5b4d-4bbd-ab0f-f376029b97cf",
   "metadata": {},
   "outputs": [
    {
     "name": "stdout",
     "output_type": "stream",
     "text": [
      "Microsoft will not give salary hikes to full-time employees this year, CEO Satya Nadella said in an internal email on Wednesday. \"This year, the economic conditions are very different across many dimensions,\" Nadella said in the email. \"While we'll have salary increases for certain hourly or equivalent roles, we won't have salary increases for full-time employees this year,\" he added.\n"
     ]
    }
   ],
   "source": [
    "print(content)"
   ]
  },
  {
   "cell_type": "code",
   "execution_count": 243,
   "id": "f867561a-d2bb-4855-bfc7-6a9b653729c9",
   "metadata": {
    "tags": []
   },
   "outputs": [],
   "source": [
    "articles = []\n",
    "for topic in topics:\n",
    "    article={}\n",
    "    url = f'https://inshorts.com/en/read/{topic}'\n",
    "    response = get(url)\n",
    "    soup = b(response.content, 'html.parser')\n",
    "    title =soup.find_all('span', itemprop='headline')[0].text\n",
    "    content = soup.find_all('div', itemprop='articleBody')[0].text\n",
    "    content = content.replace('\\n', '')\n",
    "    article.update({'title': title})\n",
    "    article.update({'content': content})\n",
    "    article.update({'category': topic})\n",
    "    articles.append(article)\n",
    "    \n",
    "    "
   ]
  },
  {
   "cell_type": "code",
   "execution_count": 244,
   "id": "6f7951af-a7d1-413d-b681-4ed1cdaf6b8e",
   "metadata": {
    "tags": []
   },
   "outputs": [
    {
     "data": {
      "text/plain": [
       "[{'title': \"Microsoft won't give salary hikes to full-time employees this year\",\n",
       "  'content': 'Microsoft will not give salary hikes to full-time employees this year, CEO Satya Nadella said in an internal email on Wednesday. \"This year, the economic conditions are very different across many dimensions,\" Nadella said in the email. \"While we\\'ll have salary increases for certain hourly or equivalent roles, we won\\'t have salary increases for full-time employees this year,\" he added.',\n",
       "  'category': 'business'},\n",
       " {'title': \"CSK to bat first against DC in Chennai, Lalit Yadav replaces Manish Pandey in DC's XI\",\n",
       "  'content': \"CSK captain MS Dhoni won the toss and elected to bat first against DC in their IPL 2023 match in Chennai. Lalit Yadav has replaced Manish Pandey in DC's playing XI. CSK's playing XI includes Shivam Dube, Ambati Rayudu and Moeen Ali in the middle-order. CSK are currently second on the points table.\",\n",
       "  'category': 'sports'},\n",
       " {'title': \"Microsoft won't give salary hikes to full-time employees this year\",\n",
       "  'content': 'Microsoft will not give salary hikes to full-time employees this year, CEO Satya Nadella said in an internal email on Wednesday. \"This year, the economic conditions are very different across many dimensions,\" Nadella said in the email. \"While we\\'ll have salary increases for certain hourly or equivalent roles, we won\\'t have salary increases for full-time employees this year,\" he added.',\n",
       "  'category': 'technology'},\n",
       " {'title': \"Petition filed in HC challenging 'The Kerala Story' ban in Bengal\",\n",
       "  'content': \"After West Bengal CM Mamata Banerjee banned the movie 'The Kerala Story' on Monday, a public interest litigation (PIL) has been filed against the same in Calcutta High Court. The petitioner on Wednesday told the court that the state government's decision is against the right to freedom of speech. The case will be heard by the court on May 15.\",\n",
       "  'category': 'entertainment'}]"
      ]
     },
     "execution_count": 244,
     "metadata": {},
     "output_type": "execute_result"
    }
   ],
   "source": [
    "articles"
   ]
  },
  {
   "cell_type": "code",
   "execution_count": 246,
   "id": "c58a59c9-1bb3-4fd5-9f13-41a3516f830b",
   "metadata": {},
   "outputs": [],
   "source": [
    "df = pd.DataFrame(articles)"
   ]
  },
  {
   "cell_type": "code",
   "execution_count": 247,
   "id": "01f3179e-838e-4c52-a19c-cee16d008aa7",
   "metadata": {},
   "outputs": [],
   "source": [
    "df.to_csv('articles.csv', index=False)"
   ]
  },
  {
   "cell_type": "markdown",
   "id": "3810f905",
   "metadata": {},
   "source": [
    "<div style='background-color : lightblue'>\n",
    "<a id='q3'></a>\n",
    "    <b><u><i><h1 style='text-align : center;padding-top: 25px;''>\n",
    "        Question 3\n",
    "    </h1></i></u></b>\n",
    "<li><a href='#TableOfContents'>Table of Contents</a></li>"
   ]
  },
  {
   "cell_type": "markdown",
   "id": "4ada8ca9",
   "metadata": {},
   "source": [
    "<b>Question 3. Bonus: cache the data</b>\n",
    "\n",
    "Write your code such that the acquired data is saved locally in some form or fashion. Your functions that retrieve the data should prefer to read the local data instead of having to make all the requests everytime the function is called. Include a boolean flag in the functions to allow the data to be acquired \"fresh\" from the actual sources (re-writing your local cache)."
   ]
  }
 ],
 "metadata": {
  "kernelspec": {
   "display_name": "Python 3 (ipykernel)",
   "language": "python",
   "name": "python3"
  },
  "language_info": {
   "codemirror_mode": {
    "name": "ipython",
    "version": 3
   },
   "file_extension": ".py",
   "mimetype": "text/x-python",
   "name": "python",
   "nbconvert_exporter": "python",
   "pygments_lexer": "ipython3",
   "version": "3.9.13"
  }
 },
 "nbformat": 4,
 "nbformat_minor": 5
}
