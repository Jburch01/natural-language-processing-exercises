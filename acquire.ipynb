{
 "cells": [
  {
   "cell_type": "markdown",
   "id": "d828a2f8",
   "metadata": {},
   "source": [
    "<div style='background-color : lightblue'>\n",
    "<a id='TableOfContents'></a>\n",
    "    <b><u><i><h1 style='text-align : center; padding-top: 70px;''>\n",
    "        Table of Contents\n",
    "    </h1></i></u></b>\n",
    "<li><a href='#imports'>Imports</a></li>\n",
    "<li><a href='#q1'>Question 1</a></li>\n",
    "<li><a href='#q2'>Question 2</a></li>\n",
    "<li><a href='#q3'>Question 3</a></li>\n"
   ]
  },
  {
   "cell_type": "markdown",
   "id": "2b0a2348",
   "metadata": {},
   "source": [
    "<div style='background-color : lightblue'>\n",
    "<a id='imports'></a>\n",
    "    <b><u><i><h1 style='text-align : center;padding-top: 25px;''>\n",
    "        Imports\n",
    "    </h1></i></u></b>\n",
    "<li><a href='#TableOfContents'>Table of Contents</a></li>"
   ]
  },
  {
   "cell_type": "code",
   "execution_count": 11,
   "id": "e9d1131b",
   "metadata": {},
   "outputs": [],
   "source": [
    "from requests import get\n",
    "from bs4 import BeautifulSoup as b\n",
    "import os\n"
   ]
  },
  {
   "cell_type": "code",
   "execution_count": 4,
   "id": "fc8c0789",
   "metadata": {},
   "outputs": [],
   "source": [
    "# Set default plt style to 'bmh'\n",
    "mpl.style.use('bmh')"
   ]
  },
  {
   "cell_type": "markdown",
   "id": "09a57f87",
   "metadata": {},
   "source": [
    "<div style='background-color : lightblue'>\n",
    "<a id='q1'></a>\n",
    "    <b><u><i><h1 style='text-align : center;padding-top: 25px;''>\n",
    "        Question 1\n",
    "    </h1></i></u></b>\n",
    "<li><a href='#TableOfContents'>Table of Contents</a></li>"
   ]
  },
  {
   "cell_type": "markdown",
   "id": "9eca2a13",
   "metadata": {},
   "source": [
    "<b>Question 1. Codeup Blog Articles</b>\n",
    "\n",
    "Visit Codeup's Blog and record the urls for at least 5 distinct blog posts. For each post, you should scrape at least the post's title and content.\n",
    "\n",
    "Encapsulate your work in a function named get_blog_articles that will return a list of dictionaries, with each dictionary representing one article. The shape of each dictionary should look like this:"
   ]
  },
  {
   "cell_type": "code",
   "execution_count": 16,
   "id": "ed6aa26e",
   "metadata": {},
   "outputs": [],
   "source": [
    "url = 'https://codeup.com/blog/'\n",
    "headers = {'User-Agent': 'Codeup Data Science'} # Some websites don't accept the pyhon-requests default user-agent\n",
    "response = get(url, headers=headers)\n"
   ]
  },
  {
   "cell_type": "code",
   "execution_count": 17,
   "id": "ec8f8a3b-a84c-4720-a6ab-8a9c7df4117b",
   "metadata": {},
   "outputs": [
    {
     "data": {
      "text/plain": [
       "<Response [200]>"
      ]
     },
     "execution_count": 17,
     "metadata": {},
     "output_type": "execute_result"
    }
   ],
   "source": [
    "response\n"
   ]
  },
  {
   "cell_type": "code",
   "execution_count": 18,
   "id": "d22f816a-e361-4d82-b705-1e783db17a34",
   "metadata": {},
   "outputs": [],
   "source": [
    "soup = b(response.content, 'html.parser')"
   ]
  },
  {
   "cell_type": "code",
   "execution_count": 126,
   "id": "db1a6703-d235-4139-a52b-d5b28b164a20",
   "metadata": {},
   "outputs": [],
   "source": [
    "divs = soup.find_all('div', class_='entry-content')\n"
   ]
  },
  {
   "cell_type": "code",
   "execution_count": 127,
   "id": "0520e448-f0e2-432a-b29f-633c8c9e3edc",
   "metadata": {},
   "outputs": [
    {
     "data": {
      "text/plain": [
       "[<div class=\"entry-content\">\n",
       " <h2>Black excellence in tech: Panelist Spotlight – Stephanie Jones</h2>\n",
       " <p><span style=\"font-weight: 400;\">Codeup is hosting our second Black Excellence in Tech Panel in honor of Black History Month on February 22, 2023! To further celebrate, we’d like to spotlight each of our panelists leading up to the discussion to learn a bit about their respective experiences as black leaders in the tech industry!  </span></p>\n",
       " <p><strong>Meet Stephanie!</strong></p>\n",
       " <p><img alt=\"\" class=\"wp-image-19625 alignleft\" decoding=\"async\" height=\"282\" src=\"https://tribucodeup.wpenginepowered.com/wp-content/uploads/2023/02/stephanie-jones-Stephanie-Jones-187x300.jpg\" width=\"176\"/></p>\n",
       " <p><a href=\"https://www.linkedin.com/in/stephanie-jones78/\"><span style=\"font-weight: 400;\">Stephanie Jones</span></a><span style=\"font-weight: 400;\"> is an Alumna of Codeup’s Data Science Program (March 2022) and currently works as a Business Intelligence Developer for Victory Capital, a global investment management firm based in San Antonio, TX. </span></p>\n",
       " <p><span style=\"font-weight: 400;\">Stephanie is passionate about visual storytelling and, as a late “tech bloomer,” is also an advocate for equitable access and educational opportunities in technology for underserved communities.</span></p>\n",
       " <p><span style=\"font-weight: 400;\">We asked Stephanie to share more about her experience at Codeup. She shares, “I have always been a creative and Codeup opened up a world of possibilities by exposing me to advanced technical concepts and career opportunities.” Stephanie also speaks to the community of support in the program and beyond.  “The network and support from instructors, mentors, and peers began during the application phase (which was intense), before the program even started, and has carried over even after completing the program and entering into the workforce.”</span></p>\n",
       " <p><span style=\"font-weight: 400;\">We hope you can join us on February 22nd to sit in on an insightful conversation with Stephanie and all of our panelists!</span></p>\n",
       " </div>]"
      ]
     },
     "execution_count": 127,
     "metadata": {},
     "output_type": "execute_result"
    }
   ],
   "source": [
    "divs"
   ]
  },
  {
   "cell_type": "code",
   "execution_count": 110,
   "id": "c5948b94-5d33-48d6-9e94-e78d599fcb33",
   "metadata": {},
   "outputs": [],
   "source": [
    "links = []\n",
    "for div in divs:\n",
    "    links.append(div.find('a')['href'])"
   ]
  },
  {
   "cell_type": "code",
   "execution_count": 149,
   "id": "731f6653-b615-4486-a699-233712a9fbaa",
   "metadata": {},
   "outputs": [],
   "source": [
    "blogs = []\n",
    "for link in links:\n",
    "    blog = {}\n",
    "    response = get(link, headers=headers)\n",
    "    soup = b(response.content, 'html.parser')\n",
    "    title = soup.find('h2').text\n",
    "    p = soup.find_all('p')[4].text\n",
    "    blog.update({'title': title})\n",
    "    blog.update({'content': p})\n",
    "    blogs.append(blog)\n",
    "    \n",
    "    \n",
    "\n",
    "\n",
    "    \n",
    "    \n",
    "    \n",
    "\n"
   ]
  },
  {
   "cell_type": "code",
   "execution_count": 150,
   "id": "3da31865-3957-4e76-8198-80b902f14257",
   "metadata": {},
   "outputs": [
    {
     "data": {
      "text/plain": [
       "[{'title': 'Women in tech: Panelist Spotlight – Magdalena Rahn',\n",
       "  'content': 'Magdalena Rahn is a current Codeup student in a Data Science cohort in San Antonio, Texas. She has a professional background in cross-cultural communications, international business development, the wine industry and journalism. After serving in the US Navy, she decided to complement her professional skill set by attending the Data Science program at Codeup; she is set to graduate in March 2023. Magdalena is fluent in French, Bulgarian, Chinese-Mandarin, Spanish and Italian.'},\n",
       " {'title': 'Women in tech: Panelist Spotlight – Rachel Robbins-Mayhill',\n",
       "  'content': 'Rachel recently joined USAA’s Data Science Delivery team as a Decision Science Analyst I in February 2023. The team is focused on delivering machine learning models for fraud prevention, and Rachel’s particular role centers around providing strategic process solutions for the team in collaboration with Operational and Model Risk components.'},\n",
       " {'title': 'Women in tech: Panelist Spotlight – Sarah Mellor\\xa0',\n",
       "  'content': 'We asked Sarah how Codeup has impacted her career, and her response was “I have absolutely loved having the privilege to grow alongside Codeup. In my time here across multiple different roles and departments, I’ve seen a lot of change. The consistent things have always been the high quality of passionate and hardworking people I get to work with; the impactful mission we get to work on; and the inspiring students who trust us with their career change.”'},\n",
       " {'title': 'Women in tech: Panelist Spotlight – Madeleine Capper',\n",
       "  'content': 'Madeleine attended Codeup as a student in early 2019 as a pupil in the very first Codeup Data Science cohort. The program proved immediately effective and she was the first student to obtain a data career out of the program. After working at Booz Allen Hamilton, Madeleine’s passion for education in conjunction with her appreciation for Codeup’s capacity for transformative life change brought her back to the institution in an instructional capacity, where she has been teaching for two years.'},\n",
       " {'title': 'Black excellence in tech: Panelist Spotlight – Wilmarie De La Cruz Mejia',\n",
       "  'content': 'Wilmarie De\\xa0La Cruz Mejia is a current Codeup student on the path to becoming a Full-Stack Web Developer at our Dallas, TX campus.\\xa0'},\n",
       " {'title': 'Black excellence in tech: Panelist Spotlight – Stephanie Jones',\n",
       "  'content': 'Stephanie Jones is an Alumna of Codeup’s Data Science Program (March 2022) and currently works as a Business Intelligence Developer for Victory Capital, a global investment management firm based in San Antonio, TX.\\xa0'}]"
      ]
     },
     "execution_count": 150,
     "metadata": {},
     "output_type": "execute_result"
    }
   ],
   "source": [
    "blogs"
   ]
  },
  {
   "cell_type": "code",
   "execution_count": 200,
   "id": "fc701b20-d2fa-43c1-92ba-841f4d418ce1",
   "metadata": {},
   "outputs": [],
   "source": [
    "import pandas as pd\n",
    "import numpy as np"
   ]
  },
  {
   "cell_type": "code",
   "execution_count": 209,
   "id": "1be027df-8b25-473c-bf18-f6692d8bb990",
   "metadata": {},
   "outputs": [],
   "source": [
    "df = pd.DataFrame(blogs)"
   ]
  },
  {
   "cell_type": "code",
   "execution_count": 202,
   "id": "35511b87-e7ae-4ab8-991d-97270d6df002",
   "metadata": {},
   "outputs": [
    {
     "data": {
      "text/html": [
       "<div>\n",
       "<style scoped>\n",
       "    .dataframe tbody tr th:only-of-type {\n",
       "        vertical-align: middle;\n",
       "    }\n",
       "\n",
       "    .dataframe tbody tr th {\n",
       "        vertical-align: top;\n",
       "    }\n",
       "\n",
       "    .dataframe thead th {\n",
       "        text-align: right;\n",
       "    }\n",
       "</style>\n",
       "<table border=\"1\" class=\"dataframe\">\n",
       "  <thead>\n",
       "    <tr style=\"text-align: right;\">\n",
       "      <th></th>\n",
       "      <th>title</th>\n",
       "      <th>content</th>\n",
       "    </tr>\n",
       "  </thead>\n",
       "  <tbody>\n",
       "    <tr>\n",
       "      <th>0</th>\n",
       "      <td>Women in tech: Panelist Spotlight – Magdalena ...</td>\n",
       "      <td>Magdalena Rahn is a current Codeup student in ...</td>\n",
       "    </tr>\n",
       "    <tr>\n",
       "      <th>1</th>\n",
       "      <td>Women in tech: Panelist Spotlight – Rachel Rob...</td>\n",
       "      <td>Rachel recently joined USAA’s Data Science Del...</td>\n",
       "    </tr>\n",
       "    <tr>\n",
       "      <th>2</th>\n",
       "      <td>Women in tech: Panelist Spotlight – Sarah Mellor</td>\n",
       "      <td>We asked Sarah how Codeup has impacted her car...</td>\n",
       "    </tr>\n",
       "    <tr>\n",
       "      <th>3</th>\n",
       "      <td>Women in tech: Panelist Spotlight – Madeleine ...</td>\n",
       "      <td>Madeleine attended Codeup as a student in earl...</td>\n",
       "    </tr>\n",
       "    <tr>\n",
       "      <th>4</th>\n",
       "      <td>Black excellence in tech: Panelist Spotlight –...</td>\n",
       "      <td>Wilmarie De La Cruz Mejia is a current Codeup ...</td>\n",
       "    </tr>\n",
       "    <tr>\n",
       "      <th>5</th>\n",
       "      <td>Black excellence in tech: Panelist Spotlight –...</td>\n",
       "      <td>Stephanie Jones is an Alumna of Codeup’s Data ...</td>\n",
       "    </tr>\n",
       "  </tbody>\n",
       "</table>\n",
       "</div>"
      ],
      "text/plain": [
       "                                               title  \\\n",
       "0  Women in tech: Panelist Spotlight – Magdalena ...   \n",
       "1  Women in tech: Panelist Spotlight – Rachel Rob...   \n",
       "2  Women in tech: Panelist Spotlight – Sarah Mellor    \n",
       "3  Women in tech: Panelist Spotlight – Madeleine ...   \n",
       "4  Black excellence in tech: Panelist Spotlight –...   \n",
       "5  Black excellence in tech: Panelist Spotlight –...   \n",
       "\n",
       "                                             content  \n",
       "0  Magdalena Rahn is a current Codeup student in ...  \n",
       "1  Rachel recently joined USAA’s Data Science Del...  \n",
       "2  We asked Sarah how Codeup has impacted her car...  \n",
       "3  Madeleine attended Codeup as a student in earl...  \n",
       "4  Wilmarie De La Cruz Mejia is a current Codeup ...  \n",
       "5  Stephanie Jones is an Alumna of Codeup’s Data ...  "
      ]
     },
     "execution_count": 202,
     "metadata": {},
     "output_type": "execute_result"
    }
   ],
   "source": [
    "df.to_csv('blogs.csv', index=)"
   ]
  },
  {
   "cell_type": "markdown",
   "id": "5cdb5022",
   "metadata": {},
   "source": [
    "<div style='background-color : lightblue'>\n",
    "<a id='q2'></a>\n",
    "    <b><u><i><h1 style='text-align : center; padding-top: 25px;''>\n",
    "        Question 2\n",
    "    </h1></i></u></b>\n",
    "<li><a href='#TableOfContents'>Table of Contents</a></li>"
   ]
  },
  {
   "cell_type": "markdown",
   "id": "588786b8",
   "metadata": {},
   "source": [
    "<b>Question 2. <b>News Articles</b>\n",
    "\n",
    "We will now be scraping text data from inshorts, a website that provides a brief overview of many different topics.\n",
    "\n",
    "Write a function that scrapes the news articles for the following topics:\n",
    "\n",
    "- Business\n",
    "- Sports\n",
    "- Technology\n",
    "- Entertainment\n",
    "    \n",
    "The end product of this should be a function named get_news_articles that returns a list of dictionaries, where each dictionary has this shape:"
   ]
  },
  {
   "cell_type": "code",
   "execution_count": 192,
   "id": "b07f639c",
   "metadata": {},
   "outputs": [],
   "source": [
    "topics = ['business', 'sports', 'technology', 'entertainment']"
   ]
  },
  {
   "cell_type": "code",
   "execution_count": 152,
   "id": "ab6b9add-575a-49d4-885f-11c931159a34",
   "metadata": {},
   "outputs": [],
   "source": [
    "url = 'https://inshorts.com/en/read/business'\n",
    "response = get(url)"
   ]
  },
  {
   "cell_type": "code",
   "execution_count": 153,
   "id": "b149c3f8-eb12-4c44-a39a-f65783afe569",
   "metadata": {},
   "outputs": [
    {
     "data": {
      "text/plain": [
       "<Response [200]>"
      ]
     },
     "execution_count": 153,
     "metadata": {},
     "output_type": "execute_result"
    }
   ],
   "source": [
    "response"
   ]
  },
  {
   "cell_type": "code",
   "execution_count": 154,
   "id": "c409b8d8-ec7e-4d2c-817e-3eefd9139bf0",
   "metadata": {},
   "outputs": [],
   "source": [
    "soup = b(response.content, 'html.parser')"
   ]
  },
  {
   "cell_type": "code",
   "execution_count": 159,
   "id": "65357043-5cc7-4aab-9c67-806e3b94b27b",
   "metadata": {},
   "outputs": [
    {
     "data": {
      "text/plain": [
       "\"Microsoft won't give salary hikes to full-time employees this year\""
      ]
     },
     "execution_count": 159,
     "metadata": {},
     "output_type": "execute_result"
    }
   ],
   "source": [
    "soup.find_all('span', itemprop='headline')[0].text"
   ]
  },
  {
   "cell_type": "code",
   "execution_count": 179,
   "id": "1100742a-8f53-4e46-a65b-34d474aaf1d8",
   "metadata": {},
   "outputs": [],
   "source": [
    "content = soup.find_all('div', itemprop='articleBody')[0].text"
   ]
  },
  {
   "cell_type": "code",
   "execution_count": 184,
   "id": "cb6f1b9d-167f-40d8-8fa1-092fef7799f7",
   "metadata": {},
   "outputs": [],
   "source": [
    "content = content.replace('\\n', '')\n"
   ]
  },
  {
   "cell_type": "code",
   "execution_count": 194,
   "id": "7e63f364-3c5b-48a1-83d4-b3c2a4ec130c",
   "metadata": {},
   "outputs": [],
   "source": []
  },
  {
   "cell_type": "code",
   "execution_count": 196,
   "id": "a6d5900d-5b4d-4bbd-ab0f-f376029b97cf",
   "metadata": {},
   "outputs": [
    {
     "name": "stdout",
     "output_type": "stream",
     "text": [
      "Microsoft will not give salary hikes to full-time employees this year, CEO Satya Nadella said in an internal email on Wednesday. \"This year, the economic conditions are very different across many dimensions,\" Nadella said in the email. \"While we'll have salary increases for certain hourly or equivalent roles, we won't have salary increases for full-time employees this year,\" he added.\n"
     ]
    }
   ],
   "source": [
    "print(content)"
   ]
  },
  {
   "cell_type": "code",
   "execution_count": 198,
   "id": "f867561a-d2bb-4855-bfc7-6a9b653729c9",
   "metadata": {
    "tags": []
   },
   "outputs": [],
   "source": [
    "articles = []\n",
    "for topic in topics:\n",
    "    article={}\n",
    "    url = f'https://inshorts.com/en/read/{topic}'\n",
    "    response = get(url)\n",
    "    soup = b(response.content, 'html.parser')\n",
    "    title =soup.find_all('span', itemprop='headline')[0].text\n",
    "    content = soup.find_all('div', itemprop='articleBody')[0].text\n",
    "    content = content.replace('\\n', '')\n",
    "    article.update({'title': title})\n",
    "    article.update({'content': content})\n",
    "    articles.append(article)\n",
    "    \n",
    "    "
   ]
  },
  {
   "cell_type": "code",
   "execution_count": 199,
   "id": "6f7951af-a7d1-413d-b681-4ed1cdaf6b8e",
   "metadata": {
    "tags": []
   },
   "outputs": [
    {
     "data": {
      "text/plain": [
       "[{'title': \"Microsoft won't give salary hikes to full-time employees this year\",\n",
       "  'content': 'Microsoft will not give salary hikes to full-time employees this year, CEO Satya Nadella said in an internal email on Wednesday. \"This year, the economic conditions are very different across many dimensions,\" Nadella said in the email. \"While we\\'ll have salary increases for certain hourly or equivalent roles, we won\\'t have salary increases for full-time employees this year,\" he added.'},\n",
       " {'title': 'Commentator Roshan Abeysinghe says a woman bowling no-ball is unpardonable, criticised',\n",
       "  'content': 'Sri Lankan commentator Roshan Abeysinghe has been criticised after he said that a woman bowling a no-ball is unpardonable. Roshan made the remark during a T20I between Sri Lanka Women and Bangladesh Women. He stated that women don\\'t have long strides. \"Wow! I can\\'t believe he just said that,\" a fan tweeted. \"That is absolutely horrendous!\" wrote another.'},\n",
       " {'title': \"Microsoft won't give salary hikes to full-time employees this year\",\n",
       "  'content': 'Microsoft will not give salary hikes to full-time employees this year, CEO Satya Nadella said in an internal email on Wednesday. \"This year, the economic conditions are very different across many dimensions,\" Nadella said in the email. \"While we\\'ll have salary increases for certain hourly or equivalent roles, we won\\'t have salary increases for full-time employees this year,\" he added.'},\n",
       " {'title': 'I ended up dating actors I worked with, literally became like a doormat: Priyanka',\n",
       "  'content': 'While recalling past relationships, Priyanka Chopra Jonas said, \"I always ended up dating the actors that I worked with or the people that I met on my set(s).\" She added, \"I went from relationship to relationship...didn\\'t give myself time...between relationships.\" Priyanka said she felt like she needed to be a \"caretaker\", adding, \"I literally would become like a doormat.\"'}]"
      ]
     },
     "execution_count": 199,
     "metadata": {},
     "output_type": "execute_result"
    }
   ],
   "source": [
    "articles"
   ]
  },
  {
   "cell_type": "code",
   "execution_count": 206,
   "id": "c58a59c9-1bb3-4fd5-9f13-41a3516f830b",
   "metadata": {},
   "outputs": [],
   "source": [
    "df = pd.DataFrame(articles)"
   ]
  },
  {
   "cell_type": "code",
   "execution_count": 208,
   "id": "01f3179e-838e-4c52-a19c-cee16d008aa7",
   "metadata": {},
   "outputs": [],
   "source": [
    "df.to_csv('articles.csv', index=False)"
   ]
  },
  {
   "cell_type": "markdown",
   "id": "3810f905",
   "metadata": {},
   "source": [
    "<div style='background-color : lightblue'>\n",
    "<a id='q3'></a>\n",
    "    <b><u><i><h1 style='text-align : center;padding-top: 25px;''>\n",
    "        Question 3\n",
    "    </h1></i></u></b>\n",
    "<li><a href='#TableOfContents'>Table of Contents</a></li>"
   ]
  },
  {
   "cell_type": "markdown",
   "id": "4ada8ca9",
   "metadata": {},
   "source": [
    "<b>Question 3. Bonus: cache the data</b>\n",
    "\n",
    "Write your code such that the acquired data is saved locally in some form or fashion. Your functions that retrieve the data should prefer to read the local data instead of having to make all the requests everytime the function is called. Include a boolean flag in the functions to allow the data to be acquired \"fresh\" from the actual sources (re-writing your local cache)."
   ]
  },
  {
   "cell_type": "code",
   "execution_count": null,
   "id": "058c4eb7-b72e-45f8-9bc1-84d7994d4d77",
   "metadata": {},
   "outputs": [],
   "source": []
  }
 ],
 "metadata": {
  "kernelspec": {
   "display_name": "Python 3 (ipykernel)",
   "language": "python",
   "name": "python3"
  },
  "language_info": {
   "codemirror_mode": {
    "name": "ipython",
    "version": 3
   },
   "file_extension": ".py",
   "mimetype": "text/x-python",
   "name": "python",
   "nbconvert_exporter": "python",
   "pygments_lexer": "ipython3",
   "version": "3.9.13"
  }
 },
 "nbformat": 4,
 "nbformat_minor": 5
}
