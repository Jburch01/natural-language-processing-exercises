{
 "cells": [
  {
   "cell_type": "markdown",
   "id": "d828a2f8",
   "metadata": {},
   "source": [
    "<div style='background-color : lightgreen'>\n",
    "<a id='TableOfContents'></a>\n",
    "    <b><u><i><h1 style='text-align : center; padding-top: 70px;''>\n",
    "        Table of Contents\n",
    "    </h1></i></u></b>\n",
    "<li><a href='#imports'>Imports</a></li>\n",
    "<li><a href='#q1'>Question 1</a></li>\n",
    "<li><a href='#q2'>Question 2</a></li>\n",
    "<li><a href='#q3'>Question 3</a></li>\n",
    "<li><a href='#q4'>Question 4</a></li>\n",
    "<li><a href='#q5'>Question 5</a></li>\n",
    "<li><a href='#bonus'>Bonus</a></li>"
   ]
  },
  {
   "cell_type": "markdown",
   "id": "2b0a2348",
   "metadata": {},
   "source": [
    "<div style='background-color : lightblue'>\n",
    "<a id='imports'></a>\n",
    "    <b><u><i><h1 style='text-align : center;padding-top: 25px;''>\n",
    "        Imports\n",
    "    </h1></i></u></b>\n",
    "<li><a href='#TableOfContents'>Table of Contents</a></li>"
   ]
  },
  {
   "cell_type": "code",
   "execution_count": 1,
   "id": "e9d1131b",
   "metadata": {},
   "outputs": [],
   "source": [
    "# Vectorization and dataframing\n",
    "import numpy as np\n",
    "import pandas as pd\n",
    "\n",
    "# Regex\n",
    "import re\n",
    "\n",
    "# Ignore warnings\n",
    "import warnings\n",
    "warnings.filterwarnings('ignore')\n",
    "\n",
    "import unicodedata\n",
    "import acquire as a\n",
    "import nltk\n",
    "\n",
    "# nltk.download('all') required to run for all!!"
   ]
  },
  {
   "cell_type": "code",
   "execution_count": 2,
   "id": "558e6468-e6a8-4702-8199-f0b986afe130",
   "metadata": {},
   "outputs": [],
   "source": [
    "blogs = a.get_blogs()"
   ]
  },
  {
   "cell_type": "code",
   "execution_count": 3,
   "id": "51f3a501-a312-40ca-bdb7-d67521895da0",
   "metadata": {},
   "outputs": [],
   "source": [
    "articles = a.get_articles()"
   ]
  },
  {
   "cell_type": "code",
   "execution_count": 4,
   "id": "2fdfb68a-e008-42d1-86fb-786e7c9af2b0",
   "metadata": {},
   "outputs": [
    {
     "data": {
      "text/html": [
       "<div>\n",
       "<style scoped>\n",
       "    .dataframe tbody tr th:only-of-type {\n",
       "        vertical-align: middle;\n",
       "    }\n",
       "\n",
       "    .dataframe tbody tr th {\n",
       "        vertical-align: top;\n",
       "    }\n",
       "\n",
       "    .dataframe thead th {\n",
       "        text-align: right;\n",
       "    }\n",
       "</style>\n",
       "<table border=\"1\" class=\"dataframe\">\n",
       "  <thead>\n",
       "    <tr style=\"text-align: right;\">\n",
       "      <th></th>\n",
       "      <th>title</th>\n",
       "      <th>content</th>\n",
       "    </tr>\n",
       "  </thead>\n",
       "  <tbody>\n",
       "    <tr>\n",
       "      <th>0</th>\n",
       "      <td>Women in tech: Panelist Spotlight – Magdalena ...</td>\n",
       "      <td>Magdalena Rahn is a current Codeup student in ...</td>\n",
       "    </tr>\n",
       "    <tr>\n",
       "      <th>1</th>\n",
       "      <td>Women in tech: Panelist Spotlight – Rachel Rob...</td>\n",
       "      <td>Rachel recently joined USAA’s Data Science Del...</td>\n",
       "    </tr>\n",
       "    <tr>\n",
       "      <th>2</th>\n",
       "      <td>Women in tech: Panelist Spotlight – Sarah Mellor</td>\n",
       "      <td>We asked Sarah how Codeup has impacted her car...</td>\n",
       "    </tr>\n",
       "    <tr>\n",
       "      <th>3</th>\n",
       "      <td>Women in tech: Panelist Spotlight – Madeleine ...</td>\n",
       "      <td>Madeleine attended Codeup as a student in earl...</td>\n",
       "    </tr>\n",
       "    <tr>\n",
       "      <th>4</th>\n",
       "      <td>Black excellence in tech: Panelist Spotlight –...</td>\n",
       "      <td>Wilmarie De La Cruz Mejia is a current Codeup ...</td>\n",
       "    </tr>\n",
       "  </tbody>\n",
       "</table>\n",
       "</div>"
      ],
      "text/plain": [
       "                                               title  \\\n",
       "0  Women in tech: Panelist Spotlight – Magdalena ...   \n",
       "1  Women in tech: Panelist Spotlight – Rachel Rob...   \n",
       "2  Women in tech: Panelist Spotlight – Sarah Mellor    \n",
       "3  Women in tech: Panelist Spotlight – Madeleine ...   \n",
       "4  Black excellence in tech: Panelist Spotlight –...   \n",
       "\n",
       "                                             content  \n",
       "0  Magdalena Rahn is a current Codeup student in ...  \n",
       "1  Rachel recently joined USAA’s Data Science Del...  \n",
       "2  We asked Sarah how Codeup has impacted her car...  \n",
       "3  Madeleine attended Codeup as a student in earl...  \n",
       "4  Wilmarie De La Cruz Mejia is a current Codeup ...  "
      ]
     },
     "execution_count": 4,
     "metadata": {},
     "output_type": "execute_result"
    }
   ],
   "source": [
    "blogs.head()"
   ]
  },
  {
   "cell_type": "code",
   "execution_count": 5,
   "id": "7ee8ebd2-00a5-4661-90bb-d0631ba4374c",
   "metadata": {},
   "outputs": [
    {
     "data": {
      "text/html": [
       "<div>\n",
       "<style scoped>\n",
       "    .dataframe tbody tr th:only-of-type {\n",
       "        vertical-align: middle;\n",
       "    }\n",
       "\n",
       "    .dataframe tbody tr th {\n",
       "        vertical-align: top;\n",
       "    }\n",
       "\n",
       "    .dataframe thead th {\n",
       "        text-align: right;\n",
       "    }\n",
       "</style>\n",
       "<table border=\"1\" class=\"dataframe\">\n",
       "  <thead>\n",
       "    <tr style=\"text-align: right;\">\n",
       "      <th></th>\n",
       "      <th>title</th>\n",
       "      <th>content</th>\n",
       "      <th>category</th>\n",
       "    </tr>\n",
       "  </thead>\n",
       "  <tbody>\n",
       "    <tr>\n",
       "      <th>0</th>\n",
       "      <td>Microsoft won't give salary hikes to full-time...</td>\n",
       "      <td>Microsoft will not give salary hikes to full-t...</td>\n",
       "      <td>business</td>\n",
       "    </tr>\n",
       "    <tr>\n",
       "      <th>1</th>\n",
       "      <td>CSK to bat first against DC in Chennai, Lalit ...</td>\n",
       "      <td>CSK captain MS Dhoni won the toss and elected ...</td>\n",
       "      <td>sports</td>\n",
       "    </tr>\n",
       "    <tr>\n",
       "      <th>2</th>\n",
       "      <td>Microsoft won't give salary hikes to full-time...</td>\n",
       "      <td>Microsoft will not give salary hikes to full-t...</td>\n",
       "      <td>technology</td>\n",
       "    </tr>\n",
       "    <tr>\n",
       "      <th>3</th>\n",
       "      <td>Petition filed in HC challenging 'The Kerala S...</td>\n",
       "      <td>After West Bengal CM Mamata Banerjee banned th...</td>\n",
       "      <td>entertainment</td>\n",
       "    </tr>\n",
       "  </tbody>\n",
       "</table>\n",
       "</div>"
      ],
      "text/plain": [
       "                                               title  \\\n",
       "0  Microsoft won't give salary hikes to full-time...   \n",
       "1  CSK to bat first against DC in Chennai, Lalit ...   \n",
       "2  Microsoft won't give salary hikes to full-time...   \n",
       "3  Petition filed in HC challenging 'The Kerala S...   \n",
       "\n",
       "                                             content       category  \n",
       "0  Microsoft will not give salary hikes to full-t...       business  \n",
       "1  CSK captain MS Dhoni won the toss and elected ...         sports  \n",
       "2  Microsoft will not give salary hikes to full-t...     technology  \n",
       "3  After West Bengal CM Mamata Banerjee banned th...  entertainment  "
      ]
     },
     "execution_count": 5,
     "metadata": {},
     "output_type": "execute_result"
    }
   ],
   "source": [
    "articles.head()"
   ]
  },
  {
   "cell_type": "markdown",
   "id": "259227c5-2595-4b35-90ca-9aaf8e818f96",
   "metadata": {},
   "source": [
    "<div style='background-color : lightblue'>\n",
    "<a id='q1'></a>\n",
    "    <b><u><i><h1 style='text-align : center; padding-top: 25px;''>\n",
    "        Question 1\n",
    "    </h1></i></u></b>\n",
    "<li><a href='#TableOfContents'>Table of Contents</a></li>"
   ]
  },
  {
   "cell_type": "markdown",
   "id": "9eca2a13",
   "metadata": {},
   "source": [
    "<b>Question 1.</b>Define a function named basic_clean. It should take in a string and apply some basic text cleaning to it:\n",
    "\n",
    "- Lowercase everything\n",
    "- Normalize unicode characters\n",
    "- Replace anything that is not a letter, number, whitespace or a single quote.\n"
   ]
  },
  {
   "cell_type": "markdown",
   "id": "14c22791-fa54-4c7f-a638-cd8314def9f6",
   "metadata": {},
   "source": [
    "#### lowercase everything"
   ]
  },
  {
   "cell_type": "code",
   "execution_count": 6,
   "id": "c399595b-b23e-4996-bc43-c0ff70d5d086",
   "metadata": {},
   "outputs": [],
   "source": [
    "blogs = blogs.applymap(lambda s: s.lower() if type(s) == str else s)"
   ]
  },
  {
   "cell_type": "code",
   "execution_count": 7,
   "id": "74292b4f-6319-4278-a3f5-084296b77792",
   "metadata": {},
   "outputs": [
    {
     "data": {
      "text/html": [
       "<div>\n",
       "<style scoped>\n",
       "    .dataframe tbody tr th:only-of-type {\n",
       "        vertical-align: middle;\n",
       "    }\n",
       "\n",
       "    .dataframe tbody tr th {\n",
       "        vertical-align: top;\n",
       "    }\n",
       "\n",
       "    .dataframe thead th {\n",
       "        text-align: right;\n",
       "    }\n",
       "</style>\n",
       "<table border=\"1\" class=\"dataframe\">\n",
       "  <thead>\n",
       "    <tr style=\"text-align: right;\">\n",
       "      <th></th>\n",
       "      <th>title</th>\n",
       "      <th>content</th>\n",
       "    </tr>\n",
       "  </thead>\n",
       "  <tbody>\n",
       "    <tr>\n",
       "      <th>0</th>\n",
       "      <td>women in tech: panelist spotlight – magdalena ...</td>\n",
       "      <td>magdalena rahn is a current codeup student in ...</td>\n",
       "    </tr>\n",
       "    <tr>\n",
       "      <th>1</th>\n",
       "      <td>women in tech: panelist spotlight – rachel rob...</td>\n",
       "      <td>rachel recently joined usaa’s data science del...</td>\n",
       "    </tr>\n",
       "    <tr>\n",
       "      <th>2</th>\n",
       "      <td>women in tech: panelist spotlight – sarah mellor</td>\n",
       "      <td>we asked sarah how codeup has impacted her car...</td>\n",
       "    </tr>\n",
       "    <tr>\n",
       "      <th>3</th>\n",
       "      <td>women in tech: panelist spotlight – madeleine ...</td>\n",
       "      <td>madeleine attended codeup as a student in earl...</td>\n",
       "    </tr>\n",
       "    <tr>\n",
       "      <th>4</th>\n",
       "      <td>black excellence in tech: panelist spotlight –...</td>\n",
       "      <td>wilmarie de la cruz mejia is a current codeup ...</td>\n",
       "    </tr>\n",
       "  </tbody>\n",
       "</table>\n",
       "</div>"
      ],
      "text/plain": [
       "                                               title  \\\n",
       "0  women in tech: panelist spotlight – magdalena ...   \n",
       "1  women in tech: panelist spotlight – rachel rob...   \n",
       "2  women in tech: panelist spotlight – sarah mellor    \n",
       "3  women in tech: panelist spotlight – madeleine ...   \n",
       "4  black excellence in tech: panelist spotlight –...   \n",
       "\n",
       "                                             content  \n",
       "0  magdalena rahn is a current codeup student in ...  \n",
       "1  rachel recently joined usaa’s data science del...  \n",
       "2  we asked sarah how codeup has impacted her car...  \n",
       "3  madeleine attended codeup as a student in earl...  \n",
       "4  wilmarie de la cruz mejia is a current codeup ...  "
      ]
     },
     "execution_count": 7,
     "metadata": {},
     "output_type": "execute_result"
    }
   ],
   "source": [
    "blogs.head()"
   ]
  },
  {
   "cell_type": "code",
   "execution_count": 8,
   "id": "d143c86e-c9d4-4873-a636-cca1b490994f",
   "metadata": {},
   "outputs": [],
   "source": [
    "articles = articles.applymap(lambda s: s.lower() if type(s) == str else s)"
   ]
  },
  {
   "cell_type": "code",
   "execution_count": 9,
   "id": "89b2ffe1-2d10-4ad9-9921-36b90ed8cf16",
   "metadata": {},
   "outputs": [
    {
     "data": {
      "text/html": [
       "<div>\n",
       "<style scoped>\n",
       "    .dataframe tbody tr th:only-of-type {\n",
       "        vertical-align: middle;\n",
       "    }\n",
       "\n",
       "    .dataframe tbody tr th {\n",
       "        vertical-align: top;\n",
       "    }\n",
       "\n",
       "    .dataframe thead th {\n",
       "        text-align: right;\n",
       "    }\n",
       "</style>\n",
       "<table border=\"1\" class=\"dataframe\">\n",
       "  <thead>\n",
       "    <tr style=\"text-align: right;\">\n",
       "      <th></th>\n",
       "      <th>title</th>\n",
       "      <th>content</th>\n",
       "      <th>category</th>\n",
       "    </tr>\n",
       "  </thead>\n",
       "  <tbody>\n",
       "    <tr>\n",
       "      <th>0</th>\n",
       "      <td>microsoft won't give salary hikes to full-time...</td>\n",
       "      <td>microsoft will not give salary hikes to full-t...</td>\n",
       "      <td>business</td>\n",
       "    </tr>\n",
       "    <tr>\n",
       "      <th>1</th>\n",
       "      <td>csk to bat first against dc in chennai, lalit ...</td>\n",
       "      <td>csk captain ms dhoni won the toss and elected ...</td>\n",
       "      <td>sports</td>\n",
       "    </tr>\n",
       "    <tr>\n",
       "      <th>2</th>\n",
       "      <td>microsoft won't give salary hikes to full-time...</td>\n",
       "      <td>microsoft will not give salary hikes to full-t...</td>\n",
       "      <td>technology</td>\n",
       "    </tr>\n",
       "    <tr>\n",
       "      <th>3</th>\n",
       "      <td>petition filed in hc challenging 'the kerala s...</td>\n",
       "      <td>after west bengal cm mamata banerjee banned th...</td>\n",
       "      <td>entertainment</td>\n",
       "    </tr>\n",
       "  </tbody>\n",
       "</table>\n",
       "</div>"
      ],
      "text/plain": [
       "                                               title  \\\n",
       "0  microsoft won't give salary hikes to full-time...   \n",
       "1  csk to bat first against dc in chennai, lalit ...   \n",
       "2  microsoft won't give salary hikes to full-time...   \n",
       "3  petition filed in hc challenging 'the kerala s...   \n",
       "\n",
       "                                             content       category  \n",
       "0  microsoft will not give salary hikes to full-t...       business  \n",
       "1  csk captain ms dhoni won the toss and elected ...         sports  \n",
       "2  microsoft will not give salary hikes to full-t...     technology  \n",
       "3  after west bengal cm mamata banerjee banned th...  entertainment  "
      ]
     },
     "execution_count": 9,
     "metadata": {},
     "output_type": "execute_result"
    }
   ],
   "source": [
    "articles.head()"
   ]
  },
  {
   "cell_type": "markdown",
   "id": "f6aa7f92-511e-480d-ab59-802fc2e76c3d",
   "metadata": {},
   "source": [
    "#### Normalize unicode characters"
   ]
  },
  {
   "cell_type": "code",
   "execution_count": 115,
   "id": "2652637c-e5fa-4d76-82ad-e45a86c2e5ed",
   "metadata": {},
   "outputs": [],
   "source": [
    "def normalize_text(text):\n",
    "    return unicodedata.normalize('NFC', text)\n",
    "\n",
    "def normalize_df(df):\n",
    "    for col in df.columns:\n",
    "        if df[col].dtype == 'object':\n",
    "            df[col] = df[col].apply(lambda x: normalize_text(x))\n",
    "    return df\n"
   ]
  },
  {
   "cell_type": "code",
   "execution_count": 116,
   "id": "ffe94d00-bec9-436d-8e2a-6888b10101e6",
   "metadata": {},
   "outputs": [],
   "source": [
    "# apply the normalize_text function to all cells in the dataframe\n",
    "blogs = normalize_df(blogs)"
   ]
  },
  {
   "cell_type": "code",
   "execution_count": 117,
   "id": "27274549-531c-494d-a4e8-f9dac5826616",
   "metadata": {},
   "outputs": [
    {
     "data": {
      "text/html": [
       "<div>\n",
       "<style scoped>\n",
       "    .dataframe tbody tr th:only-of-type {\n",
       "        vertical-align: middle;\n",
       "    }\n",
       "\n",
       "    .dataframe tbody tr th {\n",
       "        vertical-align: top;\n",
       "    }\n",
       "\n",
       "    .dataframe thead th {\n",
       "        text-align: right;\n",
       "    }\n",
       "</style>\n",
       "<table border=\"1\" class=\"dataframe\">\n",
       "  <thead>\n",
       "    <tr style=\"text-align: right;\">\n",
       "      <th></th>\n",
       "      <th>title</th>\n",
       "      <th>content</th>\n",
       "    </tr>\n",
       "  </thead>\n",
       "  <tbody>\n",
       "    <tr>\n",
       "      <th>0</th>\n",
       "      <td>women in tech panelist spotlight magdalena rahn</td>\n",
       "      <td>magdalena rahn is a current codeup student in ...</td>\n",
       "    </tr>\n",
       "    <tr>\n",
       "      <th>1</th>\n",
       "      <td>women in tech panelist spotlight rachel robbin...</td>\n",
       "      <td>rachel recently joined usaas data science deli...</td>\n",
       "    </tr>\n",
       "    <tr>\n",
       "      <th>2</th>\n",
       "      <td>women in tech panelist spotlight sarah mellor</td>\n",
       "      <td>we asked sarah how codeup has impacted her car...</td>\n",
       "    </tr>\n",
       "    <tr>\n",
       "      <th>3</th>\n",
       "      <td>women in tech panelist spotlight madeleine capper</td>\n",
       "      <td>madeleine attended codeup as a student in earl...</td>\n",
       "    </tr>\n",
       "    <tr>\n",
       "      <th>4</th>\n",
       "      <td>black excellence in tech panelist spotlight wi...</td>\n",
       "      <td>wilmarie de la cruz mejia is a current codeup ...</td>\n",
       "    </tr>\n",
       "  </tbody>\n",
       "</table>\n",
       "</div>"
      ],
      "text/plain": [
       "                                               title  \\\n",
       "0    women in tech panelist spotlight magdalena rahn   \n",
       "1  women in tech panelist spotlight rachel robbin...   \n",
       "2      women in tech panelist spotlight sarah mellor   \n",
       "3  women in tech panelist spotlight madeleine capper   \n",
       "4  black excellence in tech panelist spotlight wi...   \n",
       "\n",
       "                                             content  \n",
       "0  magdalena rahn is a current codeup student in ...  \n",
       "1  rachel recently joined usaas data science deli...  \n",
       "2  we asked sarah how codeup has impacted her car...  \n",
       "3  madeleine attended codeup as a student in earl...  \n",
       "4  wilmarie de la cruz mejia is a current codeup ...  "
      ]
     },
     "execution_count": 117,
     "metadata": {},
     "output_type": "execute_result"
    }
   ],
   "source": [
    "blogs.head()"
   ]
  },
  {
   "cell_type": "code",
   "execution_count": 13,
   "id": "b5d297be-af1d-491b-82ae-17c4304511c8",
   "metadata": {},
   "outputs": [],
   "source": [
    "articles = articles.applymap(normalize_text)"
   ]
  },
  {
   "cell_type": "code",
   "execution_count": 14,
   "id": "c39d581e-09cc-4ea2-a629-6377349e7ad7",
   "metadata": {},
   "outputs": [
    {
     "data": {
      "text/html": [
       "<div>\n",
       "<style scoped>\n",
       "    .dataframe tbody tr th:only-of-type {\n",
       "        vertical-align: middle;\n",
       "    }\n",
       "\n",
       "    .dataframe tbody tr th {\n",
       "        vertical-align: top;\n",
       "    }\n",
       "\n",
       "    .dataframe thead th {\n",
       "        text-align: right;\n",
       "    }\n",
       "</style>\n",
       "<table border=\"1\" class=\"dataframe\">\n",
       "  <thead>\n",
       "    <tr style=\"text-align: right;\">\n",
       "      <th></th>\n",
       "      <th>title</th>\n",
       "      <th>content</th>\n",
       "      <th>category</th>\n",
       "    </tr>\n",
       "  </thead>\n",
       "  <tbody>\n",
       "    <tr>\n",
       "      <th>0</th>\n",
       "      <td>microsoft won't give salary hikes to full-time...</td>\n",
       "      <td>microsoft will not give salary hikes to full-t...</td>\n",
       "      <td>business</td>\n",
       "    </tr>\n",
       "    <tr>\n",
       "      <th>1</th>\n",
       "      <td>csk to bat first against dc in chennai, lalit ...</td>\n",
       "      <td>csk captain ms dhoni won the toss and elected ...</td>\n",
       "      <td>sports</td>\n",
       "    </tr>\n",
       "    <tr>\n",
       "      <th>2</th>\n",
       "      <td>microsoft won't give salary hikes to full-time...</td>\n",
       "      <td>microsoft will not give salary hikes to full-t...</td>\n",
       "      <td>technology</td>\n",
       "    </tr>\n",
       "    <tr>\n",
       "      <th>3</th>\n",
       "      <td>petition filed in hc challenging 'the kerala s...</td>\n",
       "      <td>after west bengal cm mamata banerjee banned th...</td>\n",
       "      <td>entertainment</td>\n",
       "    </tr>\n",
       "  </tbody>\n",
       "</table>\n",
       "</div>"
      ],
      "text/plain": [
       "                                               title  \\\n",
       "0  microsoft won't give salary hikes to full-time...   \n",
       "1  csk to bat first against dc in chennai, lalit ...   \n",
       "2  microsoft won't give salary hikes to full-time...   \n",
       "3  petition filed in hc challenging 'the kerala s...   \n",
       "\n",
       "                                             content       category  \n",
       "0  microsoft will not give salary hikes to full-t...       business  \n",
       "1  csk captain ms dhoni won the toss and elected ...         sports  \n",
       "2  microsoft will not give salary hikes to full-t...     technology  \n",
       "3  after west bengal cm mamata banerjee banned th...  entertainment  "
      ]
     },
     "execution_count": 14,
     "metadata": {},
     "output_type": "execute_result"
    }
   ],
   "source": [
    "articles.head()"
   ]
  },
  {
   "cell_type": "markdown",
   "id": "7cac562b-8d65-439d-913c-b35225f91a95",
   "metadata": {},
   "source": [
    "#### Replace anything that is not a letter, number, whitespace or a single quote."
   ]
  },
  {
   "cell_type": "code",
   "execution_count": 67,
   "id": "906b41b9-b475-4ccb-b943-74a7fed3c28a",
   "metadata": {},
   "outputs": [],
   "source": [
    "def remove_non_matching(text):\n",
    "    regex = re.compile(r'[^\\w\\s\\']')\n",
    "    return regex.sub('', text)\n",
    "    \n",
    "def remove_non_matching_df(df):\n",
    "    for col in df.columns:\n",
    "        if df[col].dtype == 'object':\n",
    "            df[col] = df[col].apply(lambda x: remove_non_matching(x))\n",
    "    return df\n"
   ]
  },
  {
   "cell_type": "code",
   "execution_count": 147,
   "id": "af95cd73-b025-48f1-ad1e-e4cb6b1bfe44",
   "metadata": {},
   "outputs": [],
   "source": [
    "def basic_clean_df(df):\n",
    "    df = df.applymap(lambda s: s.lower() if type(s) == str else s)\n",
    "    df= normalize_df(df)\n",
    "    df=remove_non_matching_df(df)\n",
    "    return df\n",
    "    "
   ]
  },
  {
   "cell_type": "code",
   "execution_count": 69,
   "id": "89b0db29-0e4c-4bb8-81df-c538f44a087e",
   "metadata": {},
   "outputs": [],
   "source": [
    "blogs = remove_non_matching_df(blogs)"
   ]
  },
  {
   "cell_type": "code",
   "execution_count": 70,
   "id": "cd105ae7-ae76-4dbd-aed9-724e03d12a8d",
   "metadata": {},
   "outputs": [
    {
     "data": {
      "text/html": [
       "<div>\n",
       "<style scoped>\n",
       "    .dataframe tbody tr th:only-of-type {\n",
       "        vertical-align: middle;\n",
       "    }\n",
       "\n",
       "    .dataframe tbody tr th {\n",
       "        vertical-align: top;\n",
       "    }\n",
       "\n",
       "    .dataframe thead th {\n",
       "        text-align: right;\n",
       "    }\n",
       "</style>\n",
       "<table border=\"1\" class=\"dataframe\">\n",
       "  <thead>\n",
       "    <tr style=\"text-align: right;\">\n",
       "      <th></th>\n",
       "      <th>title</th>\n",
       "      <th>content</th>\n",
       "    </tr>\n",
       "  </thead>\n",
       "  <tbody>\n",
       "    <tr>\n",
       "      <th>0</th>\n",
       "      <td>women in tech panelist spotlight magdalena rahn</td>\n",
       "      <td>magdalena rahn is a current codeup student in ...</td>\n",
       "    </tr>\n",
       "    <tr>\n",
       "      <th>1</th>\n",
       "      <td>women in tech panelist spotlight rachel robbin...</td>\n",
       "      <td>rachel recently joined usaas data science deli...</td>\n",
       "    </tr>\n",
       "    <tr>\n",
       "      <th>2</th>\n",
       "      <td>women in tech panelist spotlight sarah mellor</td>\n",
       "      <td>we asked sarah how codeup has impacted her car...</td>\n",
       "    </tr>\n",
       "    <tr>\n",
       "      <th>3</th>\n",
       "      <td>women in tech panelist spotlight madeleine capper</td>\n",
       "      <td>madeleine attended codeup as a student in earl...</td>\n",
       "    </tr>\n",
       "    <tr>\n",
       "      <th>4</th>\n",
       "      <td>black excellence in tech panelist spotlight wi...</td>\n",
       "      <td>wilmarie de la cruz mejia is a current codeup ...</td>\n",
       "    </tr>\n",
       "    <tr>\n",
       "      <th>5</th>\n",
       "      <td>black excellence in tech panelist spotlight st...</td>\n",
       "      <td>stephanie jones is an alumna of codeups data s...</td>\n",
       "    </tr>\n",
       "  </tbody>\n",
       "</table>\n",
       "</div>"
      ],
      "text/plain": [
       "                                               title  \\\n",
       "0    women in tech panelist spotlight magdalena rahn   \n",
       "1  women in tech panelist spotlight rachel robbin...   \n",
       "2      women in tech panelist spotlight sarah mellor   \n",
       "3  women in tech panelist spotlight madeleine capper   \n",
       "4  black excellence in tech panelist spotlight wi...   \n",
       "5  black excellence in tech panelist spotlight st...   \n",
       "\n",
       "                                             content  \n",
       "0  magdalena rahn is a current codeup student in ...  \n",
       "1  rachel recently joined usaas data science deli...  \n",
       "2  we asked sarah how codeup has impacted her car...  \n",
       "3  madeleine attended codeup as a student in earl...  \n",
       "4  wilmarie de la cruz mejia is a current codeup ...  \n",
       "5  stephanie jones is an alumna of codeups data s...  "
      ]
     },
     "execution_count": 70,
     "metadata": {},
     "output_type": "execute_result"
    }
   ],
   "source": [
    "blogs"
   ]
  },
  {
   "cell_type": "code",
   "execution_count": 17,
   "id": "97ce78de-3e2d-490f-86e6-237925cfb551",
   "metadata": {},
   "outputs": [],
   "source": [
    "articles = articles.applymap(remove_non_matching)"
   ]
  },
  {
   "cell_type": "code",
   "execution_count": 18,
   "id": "614c986d-e1a8-4fc5-baf3-8cca4650ec4f",
   "metadata": {},
   "outputs": [
    {
     "data": {
      "text/html": [
       "<div>\n",
       "<style scoped>\n",
       "    .dataframe tbody tr th:only-of-type {\n",
       "        vertical-align: middle;\n",
       "    }\n",
       "\n",
       "    .dataframe tbody tr th {\n",
       "        vertical-align: top;\n",
       "    }\n",
       "\n",
       "    .dataframe thead th {\n",
       "        text-align: right;\n",
       "    }\n",
       "</style>\n",
       "<table border=\"1\" class=\"dataframe\">\n",
       "  <thead>\n",
       "    <tr style=\"text-align: right;\">\n",
       "      <th></th>\n",
       "      <th>title</th>\n",
       "      <th>content</th>\n",
       "    </tr>\n",
       "  </thead>\n",
       "  <tbody>\n",
       "    <tr>\n",
       "      <th>0</th>\n",
       "      <td>women in tech panelist spotlight  magdalena rahn</td>\n",
       "      <td>magdalena rahn is a current codeup student in ...</td>\n",
       "    </tr>\n",
       "    <tr>\n",
       "      <th>1</th>\n",
       "      <td>women in tech panelist spotlight  rachel robbi...</td>\n",
       "      <td>rachel recently joined usaas data science deli...</td>\n",
       "    </tr>\n",
       "    <tr>\n",
       "      <th>2</th>\n",
       "      <td>women in tech panelist spotlight  sarah mellor</td>\n",
       "      <td>we asked sarah how codeup has impacted her car...</td>\n",
       "    </tr>\n",
       "    <tr>\n",
       "      <th>3</th>\n",
       "      <td>women in tech panelist spotlight  madeleine ca...</td>\n",
       "      <td>madeleine attended codeup as a student in earl...</td>\n",
       "    </tr>\n",
       "    <tr>\n",
       "      <th>4</th>\n",
       "      <td>black excellence in tech panelist spotlight  w...</td>\n",
       "      <td>wilmarie de la cruz mejia is a current codeup ...</td>\n",
       "    </tr>\n",
       "  </tbody>\n",
       "</table>\n",
       "</div>"
      ],
      "text/plain": [
       "                                               title  \\\n",
       "0   women in tech panelist spotlight  magdalena rahn   \n",
       "1  women in tech panelist spotlight  rachel robbi...   \n",
       "2    women in tech panelist spotlight  sarah mellor    \n",
       "3  women in tech panelist spotlight  madeleine ca...   \n",
       "4  black excellence in tech panelist spotlight  w...   \n",
       "\n",
       "                                             content  \n",
       "0  magdalena rahn is a current codeup student in ...  \n",
       "1  rachel recently joined usaas data science deli...  \n",
       "2  we asked sarah how codeup has impacted her car...  \n",
       "3  madeleine attended codeup as a student in earl...  \n",
       "4  wilmarie de la cruz mejia is a current codeup ...  "
      ]
     },
     "execution_count": 18,
     "metadata": {},
     "output_type": "execute_result"
    }
   ],
   "source": [
    "blogs.head()"
   ]
  },
  {
   "cell_type": "markdown",
   "id": "5cdb5022",
   "metadata": {},
   "source": [
    "<div style='background-color : lightblue'>\n",
    "<a id='q2'></a>\n",
    "    <b><u><i><h1 style='text-align : center; padding-top: 25px;''>\n",
    "        Question 2\n",
    "    </h1></i></u></b>\n",
    "<li><a href='#TableOfContents'>Table of Contents</a></li>"
   ]
  },
  {
   "cell_type": "markdown",
   "id": "588786b8",
   "metadata": {},
   "source": [
    "<b>Question 2.</b> Define a function named tokenize. It should take in a string and tokenize all the words in the string."
   ]
  },
  {
   "cell_type": "code",
   "execution_count": 19,
   "id": "7011f864-1f8a-4f08-8ad5-1f1d658a3ae1",
   "metadata": {},
   "outputs": [],
   "source": [
    "def tokenize(text):\n",
    "    tokens = nltk.tokenize.ToktokTokenizer()\n",
    "    tokenized = tokens.tokenize(text, return_str=True)\n",
    "    return tokenized\n",
    "\n",
    "def tokenize_df(df):\n",
    "    for col in df.columns:\n",
    "        if df[col].dtype == 'object':\n",
    "            df[col] = df[col].apply(lambda x: tokenize(x))\n",
    "    return df\n"
   ]
  },
  {
   "cell_type": "code",
   "execution_count": 20,
   "id": "0d7c5ab5-c4d4-47db-b0ed-c7eec3391205",
   "metadata": {},
   "outputs": [],
   "source": [
    "blogs = tokenize_df(blogs)"
   ]
  },
  {
   "cell_type": "code",
   "execution_count": 21,
   "id": "851569a2-c3d8-47a7-a13c-14be6d151946",
   "metadata": {},
   "outputs": [
    {
     "data": {
      "text/html": [
       "<div>\n",
       "<style scoped>\n",
       "    .dataframe tbody tr th:only-of-type {\n",
       "        vertical-align: middle;\n",
       "    }\n",
       "\n",
       "    .dataframe tbody tr th {\n",
       "        vertical-align: top;\n",
       "    }\n",
       "\n",
       "    .dataframe thead th {\n",
       "        text-align: right;\n",
       "    }\n",
       "</style>\n",
       "<table border=\"1\" class=\"dataframe\">\n",
       "  <thead>\n",
       "    <tr style=\"text-align: right;\">\n",
       "      <th></th>\n",
       "      <th>title</th>\n",
       "      <th>content</th>\n",
       "    </tr>\n",
       "  </thead>\n",
       "  <tbody>\n",
       "    <tr>\n",
       "      <th>0</th>\n",
       "      <td>women in tech panelist spotlight magdalena rahn</td>\n",
       "      <td>magdalena rahn is a current codeup student in ...</td>\n",
       "    </tr>\n",
       "    <tr>\n",
       "      <th>1</th>\n",
       "      <td>women in tech panelist spotlight rachel robbin...</td>\n",
       "      <td>rachel recently joined usaas data science deli...</td>\n",
       "    </tr>\n",
       "    <tr>\n",
       "      <th>2</th>\n",
       "      <td>women in tech panelist spotlight sarah mellor</td>\n",
       "      <td>we asked sarah how codeup has impacted her car...</td>\n",
       "    </tr>\n",
       "    <tr>\n",
       "      <th>3</th>\n",
       "      <td>women in tech panelist spotlight madeleine capper</td>\n",
       "      <td>madeleine attended codeup as a student in earl...</td>\n",
       "    </tr>\n",
       "    <tr>\n",
       "      <th>4</th>\n",
       "      <td>black excellence in tech panelist spotlight wi...</td>\n",
       "      <td>wilmarie de la cruz mejia is a current codeup ...</td>\n",
       "    </tr>\n",
       "    <tr>\n",
       "      <th>5</th>\n",
       "      <td>black excellence in tech panelist spotlight st...</td>\n",
       "      <td>stephanie jones is an alumna of codeups data s...</td>\n",
       "    </tr>\n",
       "  </tbody>\n",
       "</table>\n",
       "</div>"
      ],
      "text/plain": [
       "                                               title  \\\n",
       "0    women in tech panelist spotlight magdalena rahn   \n",
       "1  women in tech panelist spotlight rachel robbin...   \n",
       "2      women in tech panelist spotlight sarah mellor   \n",
       "3  women in tech panelist spotlight madeleine capper   \n",
       "4  black excellence in tech panelist spotlight wi...   \n",
       "5  black excellence in tech panelist spotlight st...   \n",
       "\n",
       "                                             content  \n",
       "0  magdalena rahn is a current codeup student in ...  \n",
       "1  rachel recently joined usaas data science deli...  \n",
       "2  we asked sarah how codeup has impacted her car...  \n",
       "3  madeleine attended codeup as a student in earl...  \n",
       "4  wilmarie de la cruz mejia is a current codeup ...  \n",
       "5  stephanie jones is an alumna of codeups data s...  "
      ]
     },
     "execution_count": 21,
     "metadata": {},
     "output_type": "execute_result"
    }
   ],
   "source": [
    "blogs"
   ]
  },
  {
   "cell_type": "code",
   "execution_count": 22,
   "id": "e81066f2-1b6c-40f6-bc61-d4d8f0f63e10",
   "metadata": {},
   "outputs": [],
   "source": [
    "articles = tokenize_df(articles)"
   ]
  },
  {
   "cell_type": "code",
   "execution_count": 25,
   "id": "9fb615a4-5adb-4322-9842-e93187b0fd7a",
   "metadata": {},
   "outputs": [
    {
     "data": {
      "text/plain": [
       "\"microsoft will not give salary hikes to fulltime employees this year ceo satya nadella said in an internal email on wednesday this year the economic conditions are very different across many dimensions nadella said in the email while we ' ll have salary increases for certain hourly or equivalent roles we won ' t have salary increases for fulltime employees this year he added\""
      ]
     },
     "execution_count": 25,
     "metadata": {},
     "output_type": "execute_result"
    }
   ],
   "source": [
    "articles.content[0]"
   ]
  },
  {
   "cell_type": "markdown",
   "id": "3810f905",
   "metadata": {},
   "source": [
    "<div style='background-color : lightblue'>\n",
    "<a id='q3'></a>\n",
    "    <b><u><i><h1 style='text-align : center;padding-top: 25px;''>\n",
    "        Question 3\n",
    "    </h1></i></u></b>\n",
    "<li><a href='#TableOfContents'>Table of Contents</a></li>"
   ]
  },
  {
   "cell_type": "markdown",
   "id": "4ada8ca9",
   "metadata": {},
   "source": [
    "<b>Question 3.</b> Define a function named stem. It should accept some text and return the text after applying stemming to all the words."
   ]
  },
  {
   "cell_type": "code",
   "execution_count": 27,
   "id": "98fa6101-3ce9-4f80-bf1c-c9bb144da6fc",
   "metadata": {},
   "outputs": [],
   "source": [
    "def stem(text):\n",
    "    stemmer = nltk.porter.PorterStemmer()\n",
    "    stem = stemmer.stem(text)\n",
    "    return stem\n",
    "\n",
    "def stem_df(df):\n",
    "    for col in df.columns:\n",
    "        if df[col].dtype == 'object':\n",
    "            df[col] = df[col].apply(lambda x: stem(x))\n",
    "    return df"
   ]
  },
  {
   "cell_type": "code",
   "execution_count": null,
   "id": "19320ba0-7272-4ae5-8038-873686be4ecf",
   "metadata": {},
   "outputs": [],
   "source": []
  },
  {
   "cell_type": "markdown",
   "id": "f4625d23",
   "metadata": {},
   "source": [
    "<div style='background-color : lightblue'>\n",
    "    <a id='q4'></a>\n",
    "    <b><u><i><h1 style='text-align : center; padding-top: 25px;'>\n",
    "        Question 4\n",
    "    </h1></i></u></b>\n",
    "    <li><a href='#TableOfContents'>Table of Contents</a></li>\n",
    "</div>\n"
   ]
  },
  {
   "cell_type": "markdown",
   "id": "528161b7",
   "metadata": {},
   "source": [
    "<b>Question 4.</b> Define a function named lemmatize. It should accept some text and return the text after applying lemmatization to each word."
   ]
  },
  {
   "cell_type": "code",
   "execution_count": 28,
   "id": "dc8e022e-fc0d-4492-a8ac-31f534e744cb",
   "metadata": {},
   "outputs": [],
   "source": [
    "def lemmatize(text):\n",
    "    lemmatizer = nltk.stem.WordNetLemmatizer()\n",
    "    lemmatized = [lemmatizer.lemmatize(word) for word in text.split()]\n",
    "    text = ' '.join(lemmatized)\n",
    "    return text\n",
    "\n",
    "def lematize_df(df):\n",
    "    for col in df.columns:\n",
    "        if df[col].dtype == 'object':\n",
    "            df[col] = df[col].apply(lambda x: lemmatize(x))\n",
    "    return df\n",
    "    \n"
   ]
  },
  {
   "cell_type": "markdown",
   "id": "d17ee7be",
   "metadata": {},
   "source": [
    "<div style='background-color : lightblue'>\n",
    "<a id='q5'></a>\n",
    "    <b><u><i><h1 style='text-align : center; padding-top: 25px;''>\n",
    "        Question 5\n",
    "    </h1></i></u></b>\n",
    "<li><a href='#TableOfContents'>Table of Contents</a></li>"
   ]
  },
  {
   "cell_type": "markdown",
   "id": "bcbdbefc",
   "metadata": {},
   "source": [
    "<b>Question 5.</b> Define a function named remove_stopwords. It should accept some text and return the text after removing all the stopwords.\n",
    "\n",
    "- This function should define two optional parameters, extra_words and exclude_words. These parameters should define any additional stop words to include, and any words that we don't want to remove."
   ]
  },
  {
   "cell_type": "code",
   "execution_count": 37,
   "id": "1c888959-6343-478f-9227-f40378599cd6",
   "metadata": {},
   "outputs": [],
   "source": [
    "def remove_stopwords(text):\n",
    "    stopwords = nltk.corpus.stopwords\n",
    "    text = [word for word in text.split()]\n",
    "    text = ' '.join([word for word in text \n",
    "                         if word not in stopwords.words('english')])\n",
    "    return text\n",
    "\n",
    "\n",
    "def remove_df_stopwords(df):\n",
    "    for col in df.columns:\n",
    "        if df[col].dtype == 'object':\n",
    "            df[col] = df[col].apply(lambda x: remove_stopwords(x))\n",
    "    return df\n",
    "    "
   ]
  },
  {
   "cell_type": "markdown",
   "id": "0d8a3717-629e-4dc4-a6f1-74ad13f0f301",
   "metadata": {},
   "source": [
    "<div style='background-color : lightblue'>\n",
    "<a id='q6'></a>\n",
    "    <b><u><i><h1 style='text-align : center; padding-top: 25px;''>\n",
    "        Question 6\n",
    "    </h1></i></u></b>\n",
    "<li><a href='#TableOfContents'>Table of Contents</a></li>"
   ]
  },
  {
   "cell_type": "markdown",
   "id": "ece985de-9629-44e9-b38e-3ff47ee1712b",
   "metadata": {},
   "source": [
    "<b>Question 6.</b> Use your data from the acquire to produce a dataframe of the news articles. Name the dataframe news_df."
   ]
  },
  {
   "cell_type": "code",
   "execution_count": 81,
   "id": "5c268a11-5bf3-47a5-b104-1e8e7db3672c",
   "metadata": {},
   "outputs": [],
   "source": [
    "news_df = a.get_articles()"
   ]
  },
  {
   "cell_type": "markdown",
   "id": "db393427-af89-450b-81ee-883dffcad123",
   "metadata": {},
   "source": [
    "<div style='background-color : lightblue'>\n",
    "<a id='q7'></a>\n",
    "    <b><u><i><h1 style='text-align : center; padding-top: 25px;''>\n",
    "        Question 7\n",
    "    </h1></i></u></b>\n",
    "<li><a href='#TableOfContents'>Table of Contents</a></li>"
   ]
  },
  {
   "cell_type": "markdown",
   "id": "2dc2e6a5-b540-4278-95ff-1ddf62862e2c",
   "metadata": {},
   "source": [
    "<b>Question 7.</b> Make another dataframe for the Codeup blog posts. Name the dataframe codeup_df."
   ]
  },
  {
   "cell_type": "code",
   "execution_count": 82,
   "id": "90b743fb-19c3-473c-8854-f7d11d16c168",
   "metadata": {},
   "outputs": [],
   "source": [
    "codeup_df = a.get_blogs()"
   ]
  },
  {
   "cell_type": "markdown",
   "id": "88b6a525-0692-435b-a11c-f7a0c90ee7f5",
   "metadata": {},
   "source": [
    "<div style='background-color : lightblue'>\n",
    "<a id='q8'></a>\n",
    "    <b><u><i><h1 style='text-align : center; padding-top: 25px;''>\n",
    "        Question 8\n",
    "    </h1></i></u></b>\n",
    "<li><a href='#TableOfContents'>Table of Contents</a></li>"
   ]
  },
  {
   "cell_type": "markdown",
   "id": "c2c4a21d-0575-4259-90fa-0437ef003bcb",
   "metadata": {},
   "source": [
    "<b>Question 8.</b> For each dataframe, produce the following columns:\n",
    "\n",
    "- title to hold the title\n",
    "- original to hold the original article/post content\n",
    "- clean to hold the normalized and tokenized original with the stopwords removed.\n",
    "- stemmed to hold the stemmed version of the cleaned data.\n",
    "- lemmatized to hold the lemmatized version of the cleaned data."
   ]
  },
  {
   "cell_type": "code",
   "execution_count": 83,
   "id": "06c86fc5-d6a2-4c87-9f63-b481b8582c88",
   "metadata": {},
   "outputs": [],
   "source": [
    "news_df = news_df.rename(columns={'title': 'original_title', 'content':'original_content'})"
   ]
  },
  {
   "cell_type": "code",
   "execution_count": 84,
   "id": "8a04a116-e567-4255-97c6-7bf73dd57976",
   "metadata": {},
   "outputs": [],
   "source": [
    "codeup_df = codeup_df.rename(columns={'title':'original_title', 'content':'orginal_content'})"
   ]
  },
  {
   "cell_type": "code",
   "execution_count": 54,
   "id": "0d501aa1-365e-4792-9003-5f7a9c3ba386",
   "metadata": {},
   "outputs": [],
   "source": [
    "def get_function_name(func):\n",
    "    func_name = func.__name__\n",
    "    return func_name.split('_')[0]"
   ]
  },
  {
   "cell_type": "code",
   "execution_count": 144,
   "id": "4fc9d1ac-68c5-427e-add3-de270119fb77",
   "metadata": {},
   "outputs": [],
   "source": [
    "def prep_df_nlp(df):\n",
    "    result = df.copy()\n",
    "    df1 = df.copy()\n",
    "    processes = [stem_df, lematize_df]\n",
    "    steps = [basic_clean_df, remove_df_stopwords, tokenize_df]\n",
    "    df1 = basic_clean_df(df1)\n",
    "    df1 = df1.rename(columns={'original_title':'clean_title', 'orginal_content':'clean_conent'})\n",
    "    result = pd.concat([result, df1], axis=1)\n",
    "    for process in processes:\n",
    "        df1 = df.copy()\n",
    "        for col in df1.columns:\n",
    "            df1 = df1.rename(columns={col:f\"{get_function_name(process)}_{col}\"})\n",
    "        for step in steps:\n",
    "            df1 = step(df1)\n",
    "        df1 = process(df1)\n",
    "        result = pd.concat([result, df1], axis=1)\n",
    "      \n",
    "    return result\n"
   ]
  },
  {
   "cell_type": "code",
   "execution_count": 148,
   "id": "dcb01c38-6699-4c66-bfee-daed6eb31384",
   "metadata": {},
   "outputs": [],
   "source": [
    "test_df = prep_df_nlp(codeup_df)"
   ]
  },
  {
   "cell_type": "markdown",
   "id": "84824ec9-f396-461b-a6d8-ced912d5531c",
   "metadata": {},
   "source": [
    "<div style='background-color : lightblue'>\n",
    "<a id='q9'></a>\n",
    "    <b><u><i><h1 style='text-align : center; padding-top: 25px;''>\n",
    "        Question 9\n",
    "    </h1></i></u></b>\n",
    "<li><a href='#TableOfContents'>Table of Contents</a></li>"
   ]
  },
  {
   "cell_type": "markdown",
   "id": "2d318b2b-6019-49f6-8c9f-f9d034764b21",
   "metadata": {},
   "source": [
    "<b>Question 8.</b>  Ask yourself:\n",
    "\n",
    "- If your corpus is 493KB, would you prefer to use stemmed or lemmatized text?\n",
    "- If your corpus is 25MB, would you prefer to use stemmed or lemmatized text?\n",
    "- If your corpus is 200TB of text and you're charged by the megabyte for your hosted computational resources, would you prefer to use stemmed or lemmatized text?"
   ]
  },
  {
   "cell_type": "markdown",
   "id": "62a7351b",
   "metadata": {},
   "source": [
    "<div style='background-color : lightblue'>\n",
    "<a id='bonus'></a>\n",
    "    <b><u><i><h1 style='text-align : center; padding-top: 25px;''>\n",
    "        Bonus\n",
    "    </h1></i></u></b>\n",
    "<li><a href='#TableOfContents'>Table of Contents</a></li>"
   ]
  },
  {
   "cell_type": "code",
   "execution_count": null,
   "id": "76fb9966",
   "metadata": {},
   "outputs": [],
   "source": []
  },
  {
   "cell_type": "code",
   "execution_count": null,
   "id": "ee13c035-8960-42ea-9ec6-63e4ef1ecad9",
   "metadata": {},
   "outputs": [],
   "source": []
  }
 ],
 "metadata": {
  "kernelspec": {
   "display_name": "Python 3 (ipykernel)",
   "language": "python",
   "name": "python3"
  },
  "language_info": {
   "codemirror_mode": {
    "name": "ipython",
    "version": 3
   },
   "file_extension": ".py",
   "mimetype": "text/x-python",
   "name": "python",
   "nbconvert_exporter": "python",
   "pygments_lexer": "ipython3",
   "version": "3.9.13"
  }
 },
 "nbformat": 4,
 "nbformat_minor": 5
}
